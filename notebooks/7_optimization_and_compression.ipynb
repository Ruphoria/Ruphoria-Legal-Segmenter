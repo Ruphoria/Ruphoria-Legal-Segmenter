{
 "cells": [
  {
   "cell_type": "code",
   "execution_count": 3,
   "id": "c8f75bd2",
   "metadata": {
    "ExecuteTime": {
     "end_time": "2022-05-06T14:44:50.530542Z",
     "start_time": "2022-05-06T14:44:47.752495Z"
    }
   },
   "outputs": [],
   "source": [
    "import typing as t\n",
    "import pathlib\n",
    "import os\n",
    "import pickle\n",
    "import collections\n",
    "import timeit\n",
    "\n",
    "import transformers\n",
    "import optimum\n",
    "import optimum.onnxruntime\n",
    "import onnxruntime\n",
    "import onnx\n",
    "import datasets\n",
    "import torch\n",
    "import torch.nn as nn\n",
    "import numpy as np\n",
    "import seaborn as sns\n",
    "import matplotlib.pyplot as plt\n",
    "import tqdm.auto\n",
    "import pandas as pd\n",
    "\n",
    "import segmentador\n",
    "import segmentador.optimize\n",
    "import eval_model\n",
    "import prune_heads\n",
    "\n",
    "%load_ext autoreload\n",
    "%autoreload 2\n",
    "\n",
    "\n",
    "PRUNE_HEADS = False\n",
    "\n",
    "PERFORMANCE_LOGS_DIR = \"performance_logs\"\n",
    "pathlib.Path(PERFORMANCE_LOGS_DIR).mkdir(exist_ok=True, parents=True)\n",
    "\n",
    "QUANTIZED_MODELS_DIR = \"quantized_models\"\n",
    "pathlib.Path(QUANTIZED_MODELS_DIR).mkdir(exist_ok=True, parents=True)"
   ]
  },
  {
   "cell_type": "code",
   "execution_count": 2,
   "id": "b66dba65",
   "metadata": {
    "ExecuteTime": {
     "end_time": "2022-05-03T01:44:57.465953Z",
     "start_time": "2022-05-03T01:44:57.402217Z"
    }
   },
   "outputs": [],
   "source": [
    "curated_df = datasets.Dataset.from_file(\n",
    "    \"../data/refined_datasets/df_tokenized_split_0_120000_6000/\"\n",
    "    \"combined_test_48_parts_1036_instances/dataset.arrow\"\n",
    ")\n",
    "\n",
    "curated_df_subsample = curated_df.shard(num_shards=200, index=0)"
   ]
  },
  {
   "cell_type": "markdown",
   "id": "d0f9628b",
   "metadata": {},
   "source": [
    "## Pruning transformers heads"
   ]
  },
  {
   "cell_type": "code",
   "execution_count": 3,
   "id": "6ba99788",
   "metadata": {
    "ExecuteTime": {
     "end_time": "2022-04-29T02:52:01.373470Z",
     "start_time": "2022-04-29T02:52:01.351073Z"
    }
   },
   "outputs": [],
   "source": [
    "if PRUNE_HEADS:\n",
    "    device = \"cuda\"\n",
    "\n",
    "    segmenter_bert = segmentador.BERTSegmenter(\n",
    "        uri_model=\"../pretrained_segmenter_model/2_6000_layer_model/\",\n",
    "        device=device,\n",
    "    )\n",
    "\n",
    "    eval_df = datasets.Dataset.from_file(\n",
    "        \"../data/df_tokenized_split_0_120000_6000/eval/dataset.arrow\"\n",
    "    ).shard(num_shards=20, index=0)\n",
    "\n",
    "    eval_dataloader = torch.utils.data.DataLoader(\n",
    "        eval_df,\n",
    "        sampler=torch.utils.data.SequentialSampler(eval_df),\n",
    "        batch_size=4,\n",
    "        collate_fn=transformers.DataCollatorForTokenClassification(\n",
    "            segmenter_bert.tokenizer,\n",
    "            padding=\"max_length\",\n",
    "            max_length=1024,\n",
    "        ),\n",
    "    )\n",
    "\n",
    "    head_mask = prune_heads.mask_heads(\n",
    "        segmenter_bert.model,\n",
    "        eval_dataloader,\n",
    "        device=device,\n",
    "        masking_threshold=0.995,\n",
    "    )\n",
    "\n",
    "    prune_heads.prune_heads(\n",
    "        segmenter_bert.model,\n",
    "        eval_dataloader,\n",
    "        head_mask,\n",
    "        device=device,\n",
    "    )\n",
    "\n",
    "    segmenter_bert.model.save_pretrained(\"head_pruning/pruned_model\")\n",
    "    segmenter_bert.tokenizer.save_pretrained(\"head_pruning/pruned_model\")"
   ]
  },
  {
   "cell_type": "markdown",
   "id": "4e318fc4",
   "metadata": {},
   "source": [
    "- masking_threshold = 0.995\n",
    "    - Pruning: original num of params: 1.96e+07, after pruning 1.76e+07 (89.9%)\n",
    "    - Pruning: score with masking: 0.9825 score with pruning: 0.9825\n",
    "    - Pruning: speed ratio (new timing / original timing): 131.32%\n",
    "\n",
    "- masking_threshold = 0.990\n",
    "    - Pruning: original num of params: 1.96e+07, after pruning 1.68e+07 (85.9%)\n",
    "    - Pruning: score with masking: 0.9791 score with pruning: 0.9791\n",
    "    - Pruning: speed ratio (new timing / original timing): 145.23%\n",
    "\n",
    "- masking_threshold = 0.980\n",
    "    - Pruning: original num of params: %.2e, after pruning %.2e (%.1f percents) 19576324 16427524 83.91526417319206\n",
    "    - Pruning: score with masking: %f score with pruning: %f 0.971903741967998 0.971903741967998\n",
    "    - Pruning: speed ratio (new timing / original timing): %f percents 151.18013865026202"
   ]
  },
  {
   "cell_type": "markdown",
   "id": "2e2e8e9e",
   "metadata": {
    "ExecuteTime": {
     "end_time": "2022-04-05T17:10:42.928492Z",
     "start_time": "2022-04-05T17:10:42.922482Z"
    }
   },
   "source": [
    "## Quantizing LSTM"
   ]
  },
  {
   "cell_type": "code",
   "execution_count": 4,
   "id": "6d769590",
   "metadata": {
    "ExecuteTime": {
     "end_time": "2022-05-06T14:45:03.444670Z",
     "start_time": "2022-05-06T14:45:03.174479Z"
    }
   },
   "outputs": [],
   "source": [
    "segmenter_lstm = segmentador.LSTMSegmenter(\n",
    "    uri_model=\"../pretrained_segmenter_model/512_6000_1_lstm/checkpoints/epoch=3-step=3591.ckpt\",\n",
    "    uri_tokenizer=\"../tokenizers/6000_subwords\",\n",
    "    device=\"cpu\",\n",
    ")"
   ]
  },
  {
   "cell_type": "markdown",
   "id": "a809d517",
   "metadata": {},
   "source": [
    "### As Torch JIT format"
   ]
  },
  {
   "cell_type": "code",
   "execution_count": 5,
   "id": "67036f76",
   "metadata": {
    "ExecuteTime": {
     "end_time": "2022-04-29T02:52:02.269620Z",
     "start_time": "2022-04-29T02:52:01.602781Z"
    }
   },
   "outputs": [
    {
     "name": "stdout",
     "output_type": "stream",
     "text": [
      "Saved quantized Pytorch module (Torch JIT format) in \u001b[34m'./quantized_models/q_segmenter_num_layers_1_vocab_size_6000_lstm_model.pt'\u001b[0m. To use it, load a LSTM segmenter model as:\n",
      "\n",
      "segmentador.optimize.TorchJITLSTMSegmenter(\n",
      "   \u001b[33muri_model=\u001b[34m'./quantized_models/q_segmenter_num_layers_1_vocab_size_6000_lstm_model.pt'\u001b[0m,\n",
      "   ...,\n",
      ")\n"
     ]
    }
   ],
   "source": [
    "quantized_lstm_torch_paths = segmentador.optimize.quantize_model(\n",
    "    segmenter_lstm,\n",
    "    model_output_format=\"torch_jit\",\n",
    "    check_cached=False,\n",
    "    verbose=True,\n",
    ")"
   ]
  },
  {
   "cell_type": "code",
   "execution_count": 6,
   "id": "ad8e32da",
   "metadata": {
    "ExecuteTime": {
     "end_time": "2022-04-29T02:52:02.325227Z",
     "start_time": "2022-04-29T02:52:02.270874Z"
    }
   },
   "outputs": [],
   "source": [
    "segmenter_lstm_torch_quantized = segmentador.optimize.TorchJITLSTMSegmenter(\n",
    "    uri_model=quantized_lstm_torch_paths.output_uri,\n",
    ")"
   ]
  },
  {
   "cell_type": "code",
   "execution_count": 7,
   "id": "71e73ec7",
   "metadata": {
    "ExecuteTime": {
     "end_time": "2022-04-29T02:52:02.644966Z",
     "start_time": "2022-04-29T02:52:02.326408Z"
    }
   },
   "outputs": [
    {
     "data": {
      "application/vnd.jupyter.widget-view+json": {
       "model_id": "09d7bd90e1104623adb391787121d619",
       "version_major": 2,
       "version_minor": 0
      },
      "text/plain": [
       "  0%|          | 0/1 [00:00<?, ?it/s]"
      ]
     },
     "metadata": {},
     "output_type": "display_data"
    },
    {
     "data": {
      "text/plain": [
       "['INDICAÇÃO Nº DE 2008 ( Do Sr. Hermes Parcianello )',\n",
       " 'Indica ao Ministério da Educação a inclusão no ProInfância do município de LARANJEIRAS DO SUL, no estado do Paraná.',\n",
       " 'Excelentíssimo Senhor Ministro de Estado da Educação, Considerando que a construção de creches e escolas de educação infantil e a reestruturação e aquisição de equipamentos para a rede física escolar desse nível educacional são indispensáveis à melhoria da educação. Considerando um grande percentual de mulheres chefes de família com filhos menores que necessitam de local adequado para deixar seus filhos e que o Programa disponibiliza o atendimento de até 120 crianças em período integral ou até 240 crianças, se distribuídos em turnos matutinos e vespertinos. Considerando que o município ao ser atendido pelo Programa priorizará a acessibilidade, fazendo as adequações necessárias a fim de permitir seu uso por portadores de necessidades especiais. Considerando que a edificação será composta de um bloco administrativo, um de serviço, dois pedagógicos, além de áreas para recreação e multiuso, totalizando uma área de aproximadamente 1. 118, 46m2 e que o valor aproximado será de R $ 950. 339, 28 ( novecentos e cinqüenta mil, trezentos e trinta e nove reais e vinte e oito centavos ) Considerando ainda que o município preencha os requisitos exigidos pelo FNDE ; entendemos que é imprescindível a inclusão de LARANJEIRAS DO SUL - PR no Programa Nacional de Reestruturação e Aparelhamento da Rede Escolar Pública de Educação Infantil.',\n",
       " 'Sala das Sessões, em dezembro de 2008 Deputado HERMES PARCIANELLO',\n",
       " 'REQUERIMENTO ( Do Sr. HERMES PARCIANELLO )',\n",
       " 'Requer o envio de Indicação ao Poder Executivo, relativo à inclusão do município de LARANJEIRAS DO SUL, no estado do Paraná no ProInfância.',\n",
       " 'Senhor Presidente, Nos termos do art. 113, inciso I e § 1º do Regimento Interno da Câmara dos Deputados, requeiro a Vossa Excelência seja encaminhada ao Poder Executivo a Indicação em anexo, designando a inclusão do município LARANJEIRAS DO SUL no ProInfância.',\n",
       " 'Sala de Sessões, em de dezembro de 2008 Deputado HERMES PARCIANELLO CÂMARA DOS DEPUTADOS',\n",
       " 'PROJETO DE LEI Nº, DE 2019. ( Do Sr. BOCA ABERTA )',\n",
       " 'Dispõe sobre a legitimação dos imóveis urbanos que não possuem escritura pública e dá providencias, em âmbito nacional.',\n",
       " 'O Congresso Nacional decreta :',\n",
       " 'Art. 1º - Dispõe sobre a legitimação dos imóveis urbanos que não possuem escritura pública e dá outras providencias.',\n",
       " 'Artigo 2º Regularizar os imóveis urbanos que não dispõem de registros públicos.',\n",
       " '§ 1º Autoriza a União, dentre as áreas urbanas, onde lhe é de domínio, por força de lei, legitimar os imóveis urbanos nele existentes, e que, não possuem escritura pública.',\n",
       " '§ 2º A legitimação das áreas é transmitida por doação a seus possuidores ou detentores da posse, mediante Processo Administrativo de Regulamentação dos Terrenos Urbanos, de incumbência de cada município por meio de Título de Legitimação ;',\n",
       " 'Art. 3º Será considerado dono do imóvel construído a pessoa física ou jurídica detentora de documentos públicos ou particulares que certifica ou declara a sua aquisição, ainda que não possua o domínio como proprietário.',\n",
       " '§ 1º O titulo de legitimação do imóvel e a quitação das contribuições previdenciárias da construção serão averbadas no Cartório de Registro de Imóveis da Comarca competente.',\n",
       " '§ 2ª Após averbação da construção no registro do titulo, o imóvel se torna automaticamente negociável e alienável. e registrado no * C D1 92 84 62 90 10 0 * PL n. 4 22 6 / 20 19 Ap re se nt aç ão : 0 6 / 08 / 2 01 9 13 : 1 0 CÂMARA DOS DEPUTADOS Cartório de Imóveis da Comarca, desde que o terreno esteja dentro da área urbana, ora matriculada, como de domínio do Município ;',\n",
       " '§ 3º O Titulo de Legitimação é o instrumento formal a transferir o domínio de bens disponível para o particular ou terceiro.',\n",
       " 'Art. 4 O processo administrativo de regularização de Imóveis é exclusivo de cada município, onde se localiza o imóvel.',\n",
       " 'Art. 5º Fica dispensado o pagamento de multa sobre o auto de infração do imóvel a legitimar, proveniente de autuação pelo não recolhimento da contribuição previdenciária.',\n",
       " 'Art. 6º Esta lei entra em vigor na data de sua publicação.',\n",
       " 'PROJETO DE LEI Nº, DE ( Do Sr.',\n",
       " 'Leonardo Mattos ) Dá nova redação ao inciso XIV do art. 6º da Lei 7. 713, de 22 de dezembro de 1988 que “ Altera a legislação do Imposto de Renda e dá outras providencias ”.',\n",
       " 'O Congresso Nacional decreta :',\n",
       " 'Art. 1º - o inciso XIV do art. 6º da Lei 7. 713, de 22 de dezembro de 1988, passa a viger com a seguinte redação : “',\n",
       " 'Art. 6º...............................................................................................................................................................................................................',\n",
       " \"XIV - os proventos de aposentadoria ou reforma, desde que motivadas por acidente sem serviços, e os percebidos pelos portadores de moléstia profissional, tuberculose ativa, alienação mental, esclerose - múltipla, neoplasia maligna, cegueira, hanseníase, paralisia irreversível e incapacitante, cardiopatia grave, doença de Parkinson, espondiloartrose anquilosante, nefropatia grave, estados avançados da doença de Paget ( osteíte deformante ), contaminação por radiação, Síndrome de Trombofilia, Síndrome de Charcot - Marie - Tooth Síndrome da imunodeficiência adquirida, com base em conclusão da medicina especializada, mesmo que a doença tenha sido contraída depois da aposentadoria ou reforma. ( NR )''\",\n",
       " 'Art. 2º - Esta lei entra em vigor na data de sua publicação.',\n",
       " 'REQUERIMENTO DE INFORMAÇÃO nº, de de agosto de 2007 ( Do Sr. SARNEY FILHO )',\n",
       " 'Requerimento de Informação ao Senhor Ministro das Relações Exteriores, sobre as providências adotadas por aquele Ministério, no combate a exploração ilegal de madeira da floresta amazônica, no Estado do Acre, por madeireiras instaladas em território peruano.',\n",
       " 'Senhor Presidente, Com fundamento no art. 50, § 2º, da Constituição Federal, combinado com os artigos 115, inciso I, e 116, ambos do Regimento Interno da Câmara dos Deputados, solicito a Vossa Excelência que seja encaminhado ao Senhor Ministro das Relações Exteriores o presente Pedido de Informação, tendo em vista às notícias veiculadas no Jornal Nacional, da Rede Globo, do dia 27.',\n",
       " '07. 2007, sobre a exploração ilegal de madeira da floresta amazônica, no Estado do Acre, por madeireiras instaladas em território peruano. Noticiou a matéria que durante uma operação do Ibama, juntamente com o Exército e Polícia Federal, foram identificados cerca de 70 pontos de exploração madeireira, numa área de aproximadamente 340 quilômetros de fronteira, com a agravante de ser também em área do Parque Nacional da Serra do Divisor e uma reserva indígena. Assim sendo, solicito informações sobre as providências adotadas por aquele Ministério, no combate a exploração ilegal de madeira da floresta amazônica, no Estado do Acre, por madeireiras instaladas em território peruano, conforme noticiado. Deputado SARNEY FILHO PV / MA REQUERIMENTO ( Do Sr. Celso Russomanno )',\n",
       " 'Requer o envio de Indicação ao Poder Executivo, relativa à inclusão de pessoas vítimas de queimaduras médias e graves na categoria de deficiência prevista no inciso I do 4º do Decreto nº 3. 298, de 20 de dezembro de 1999, com a redação dada pelo Decreto nº 5. 296, de 2 de dezembro de 2004.',\n",
       " 'Senhor Presidente : Nos termos do art. 113, inciso I e § 1º, do Regimento Interno da Câmara dos Deputados, requeiro a V. Exª. seja encaminhada ao Poder Executivo a Indicação anexa, sugerindo a inclusão de pessoas vítimas de queimaduras médias e graves em categoria de deficiência prevista no inciso I do 4º do Decreto nº 3. 298, de 20 de dezembro de 1999, com a redação dada pelo Decreto nº 5. 296, de 2 de dezembro de 2004.',\n",
       " 'Sala das Sessões, em de de 2009. Deputado CELSO RUSSOMANNO 2009 _ 7880',\n",
       " 'INDICAÇÃO No, DE 2009 ( Do Sr. Celso Russomanno )',\n",
       " 'Sugere a inclusão de pessoas vítimas de queimaduras médias e graves na categoria de deficiência prevista no inciso I do 4º do Decreto nº 3. 298, de 20 de dezembro de 1999, com a redação dada pelo Decreto nº 5. 296, de 2 de dezembro de 2004.',\n",
       " 'Excelentíssimo Senhor Secretário Especial de Direitos Humanos : A Carta Política de 1988 constitui o marco delimitador da visibilidade das demandas das pessoas com deficiência no Brasil. Com efeito, houve o reconhecimento formal dos direitos de cidadania desse segmento, prevendo - se a adoção de diversas medidas tendentes a sua plena inclusão social. Ressalte - se que, a partir de então, a legislação infraconstitucional federal relativa às pessoas com deficiência tem - se tornado bastante extensa, igualando - se, no que tange à qualidade e ao conteúdo, às legislações mais avançadas do mundo. Todavia, a batalha para a concretização das disposições legais está longe de ser concluída, situação agravada pelas atitudes de discriminação e preconceito que ainda permeiam grande parte das suas relações sociais. Nesse contexto, pessoas que sofreram queimaduras médias ou graves, cujas consequências limitaram o exercício de atividades cotidianas e reduziram efetivamente sua capacidade de integração social, são vítimas de estigmas, preconceitos e discriminações que os impedem de 2 exercer plenamente sua cidadania, uma vez que lhes é negado o acesso a direitos fundamentais básicos, como o direito ao trabalho. A situação é agravada pelo fato de não haver previsão expressa, no Decreto nº 3. 298, de 20 de dezembro de 1999, de proteção a esse segmento, situação que os impede de usufruir dos direitos e garantias assegurados às pessoas com deficiência, tanto pelo Texto Constitucional quanto pelas normas infraconstitucionais. Dessa forma, considerando que as pessoas com deficiências decorrentes de queimaduras médias e graves enfrentam barreiras atitudinais para sua inclusão social plena, principalmente no acesso ao direito ao trabalho, solicitamos a revisão do art. 4º, inciso I do Decreto nº 3. 298, de 1999, para incluir as consequências decorrentes de queimaduras médias ou graves entre as deficiências previstas no referido dispositivo.',\n",
       " 'Sala das Sessões, em de de 2009. Deputado CELSO RUSSOMANNO 2009 _ 7880 CÂMARA DOS DEPUTADOS',\n",
       " 'PROJETO DE LEI N. º, DE 2015 ( do Sr. HIDEKAZU TAKAY',\n",
       " '##AMA )',\n",
       " 'Cria a obrigatoriedade da exigência por parte das companhias aéreas que atuam em território nacional da realização de exames médicos e psicotécnicos que assegurem a sanidade mental dos pilotos e copilotos.',\n",
       " 'O CONGRESSO NACIONAL decreta :',\n",
       " 'Art. 1º As companhias aéreas que atuam junto ao território nacional da República Federativa do Brasil ficam obrigadas a realizar exames médicos e psicotécnicos que assegurem a sanidade mental e a boa saúde física dos pilotos e copilotos.',\n",
       " 'Art. 2 º As companhias aéreas ficam obrigadas a arquivar tais documentos médicos pelo prazo de vinte e cinco anos para fins de comprovação.',\n",
       " 'Art. 3 º As companhias aéreas que deixarem de cumprir com qualquer disposto nesta lei serão responsáveis objetivamente por qualquer dano causado por seus agentes, inclusive quanto ao aspecto criminal.',\n",
       " 'Art. 4º Esta lei entra em vigor na data de sua publicação.',\n",
       " 'Sala das Comissões, de de 2015. Deputado HIDEKAZU TAKAYAMA CÂMARA DOS DEPUTADOS']"
      ]
     },
     "execution_count": 7,
     "metadata": {},
     "output_type": "execute_result"
    }
   ],
   "source": [
    "segmenter_lstm_torch_quantized(curated_df_subsample, show_progress_bar=True)"
   ]
  },
  {
   "cell_type": "markdown",
   "id": "72d4e975",
   "metadata": {},
   "source": [
    "### As ONNX format"
   ]
  },
  {
   "cell_type": "code",
   "execution_count": 8,
   "id": "1edeb9d8",
   "metadata": {
    "ExecuteTime": {
     "end_time": "2022-04-29T02:52:04.175908Z",
     "start_time": "2022-04-29T02:52:02.646078Z"
    }
   },
   "outputs": [
    {
     "name": "stderr",
     "output_type": "stream",
     "text": [
      "/media/nvme/segmentador/venvs/env3.9.10/lib/python3.9/site-packages/torch/onnx/symbolic_opset9.py:2188: UserWarning: Exporting a model to ONNX with a batch_size other than 1, with a variable length with LSTM can cause an error when running the ONNX model with a different batch size. Make sure to save the model with a batch size of 1, or define the initial states (h0/c0) as inputs of the model. \n",
      "  warnings.warn(\"Exporting a model to ONNX with a batch_size other than 1, \" +\n",
      "WARNING: The shape inference of prim::Constant type is missing, so it may result in wrong shape inference for the exported graph. Please consider adding it in symbolic function.\n",
      "/media/nvme/segmentador/venvs/env3.9.10/lib/python3.9/site-packages/torch/onnx/symbolic_helper.py:719: UserWarning: allowzero=0 by default. In order to honor zero value in shape use allowzero=1\n",
      "  warnings.warn(\"allowzero=0 by default. In order to honor zero value in shape use allowzero=1\")\n",
      "WARNING: The shape inference of prim::Constant type is missing, so it may result in wrong shape inference for the exported graph. Please consider adding it in symbolic function.\n",
      "WARNING: The shape inference of prim::Constant type is missing, so it may result in wrong shape inference for the exported graph. Please consider adding it in symbolic function.\n"
     ]
    },
    {
     "name": "stdout",
     "output_type": "stream",
     "text": [
      "Saved quantized Pytorch module (ONNX format) in \u001b[34m'./quantized_models/q_segmenter_hidden_layer_dim_512_vocab_size_6000_num_layers_1_lstm_model_99_opt_level.onnx'\u001b[0m. To use it, load a LSTM segmenter model as:\n",
      "\n",
      "segmentador.optimize.ONNXLSTMSegmenter(\n",
      "   \u001b[33muri_model=\u001b[34m'./quantized_models/q_segmenter_hidden_layer_dim_512_vocab_size_6000_num_layers_1_lstm_model_99_opt_level.onnx'\u001b[0m,\n",
      "   uri_tokenizer='../tokenizers/6000_subwords',\n",
      "   ...,\n",
      ")\n"
     ]
    },
    {
     "name": "stderr",
     "output_type": "stream",
     "text": [
      "2022-04-28 23:52:02.955978960 [W:onnxruntime:, inference_session.cc:1546 Initialize] Serializing optimized model with Graph Optimization level greater than ORT_ENABLE_EXTENDED and the NchwcTransformer enabled. The generated model may contain hardware specific optimizations, and should only be used in the same environment the model was optimized in.\n"
     ]
    }
   ],
   "source": [
    "quantized_lstm_onnx_paths = segmentador.optimize.quantize_model(\n",
    "    segmenter_lstm,\n",
    "    model_output_format=\"onnx\",\n",
    "    check_cached=False,\n",
    "    verbose=True,\n",
    ")"
   ]
  },
  {
   "cell_type": "code",
   "execution_count": 9,
   "id": "9f8b71db",
   "metadata": {
    "ExecuteTime": {
     "end_time": "2022-04-29T02:52:04.209814Z",
     "start_time": "2022-04-29T02:52:04.177850Z"
    }
   },
   "outputs": [],
   "source": [
    "segmenter_lstm_onnx_quantized = segmentador.optimize.ONNXLSTMSegmenter(\n",
    "    uri_model=quantized_lstm_onnx_paths.output_uri,\n",
    "    uri_tokenizer=segmenter_lstm.tokenizer.name_or_path,\n",
    ")"
   ]
  },
  {
   "cell_type": "code",
   "execution_count": 10,
   "id": "4f61c506",
   "metadata": {
    "ExecuteTime": {
     "end_time": "2022-04-29T02:52:04.444524Z",
     "start_time": "2022-04-29T02:52:04.213128Z"
    }
   },
   "outputs": [
    {
     "data": {
      "application/vnd.jupyter.widget-view+json": {
       "model_id": "2089b33dd6fa436ba5162f7879180238",
       "version_major": 2,
       "version_minor": 0
      },
      "text/plain": [
       "  0%|          | 0/1 [00:00<?, ?it/s]"
      ]
     },
     "metadata": {},
     "output_type": "display_data"
    },
    {
     "data": {
      "text/plain": [
       "['INDICAÇÃO Nº DE 2008 ( Do Sr. Hermes Parcianello )',\n",
       " 'Indica ao Ministério da Educação a inclusão no ProInfância do município de LARANJEIRAS DO SUL, no estado do Paraná.',\n",
       " 'Excelentíssimo Senhor Ministro de Estado da Educação, Considerando que a construção de creches e escolas de educação infantil e a reestruturação e aquisição de equipamentos para a rede física escolar desse nível educacional são indispensáveis à melhoria da educação. Considerando um grande percentual de mulheres chefes de família com filhos menores que necessitam de local adequado para deixar seus filhos e que o Programa disponibiliza o atendimento de até 120 crianças em período integral ou até 240 crianças, se distribuídos em turnos matutinos e vespertinos. Considerando que o município ao ser atendido pelo Programa priorizará a acessibilidade, fazendo as adequações necessárias a fim de permitir seu uso por portadores de necessidades especiais. Considerando que a edificação será composta de um bloco administrativo, um de serviço, dois pedagógicos, além de áreas para recreação e multiuso, totalizando uma área de aproximadamente 1. 118, 46m2 e que o valor aproximado será de R $ 950. 339, 28 ( novecentos e cinqüenta mil, trezentos e trinta e nove reais e vinte e oito centavos ) Considerando ainda que o município preencha os requisitos exigidos pelo FNDE ; entendemos que é imprescindível a inclusão de LARANJEIRAS DO SUL - PR no Programa Nacional de Reestruturação e Aparelhamento da Rede Escolar Pública de Educação Infantil.',\n",
       " 'Sala das Sessões, em dezembro de 2008 Deputado HERMES PARCIANELLO',\n",
       " 'REQUERIMENTO ( Do Sr. HERMES PARCIANELLO )',\n",
       " 'Requer o envio de Indicação ao Poder Executivo, relativo à inclusão do município de LARANJEIRAS DO SUL, no estado do Paraná no ProInfância.',\n",
       " 'Senhor Presidente, Nos termos do art. 113, inciso I e § 1º do Regimento Interno da Câmara dos Deputados, requeiro a Vossa Excelência seja encaminhada ao Poder Executivo a Indicação em anexo, designando a inclusão do município LARANJEIRAS DO SUL no ProInfância.',\n",
       " 'Sala de Sessões, em de dezembro de 2008 Deputado HERMES PARCIANELLO CÂMARA DOS DEPUTADOS',\n",
       " 'PROJETO DE LEI Nº, DE 2019. ( Do Sr. BOCA ABERTA )',\n",
       " 'Dispõe sobre a legitimação dos imóveis urbanos que não possuem escritura pública e dá providencias, em âmbito nacional.',\n",
       " 'O Congresso Nacional decreta :',\n",
       " 'Art. 1º - Dispõe sobre a legitimação dos imóveis urbanos que não possuem escritura pública e dá outras providencias.',\n",
       " 'Artigo 2º Regularizar os imóveis urbanos que não dispõem de registros públicos.',\n",
       " '§ 1º Autoriza a União, dentre as áreas urbanas, onde lhe é de domínio, por força de lei, legitimar os imóveis urbanos nele existentes, e que, não possuem escritura pública.',\n",
       " '§ 2º A legitimação das áreas é transmitida por doação a seus possuidores ou detentores da posse, mediante Processo Administrativo de Regulamentação dos Terrenos Urbanos, de incumbência de cada município por meio de Título de Legitimação ;',\n",
       " 'Art. 3º Será considerado dono do imóvel construído a pessoa física ou jurídica detentora de documentos públicos ou particulares que certifica ou declara a sua aquisição, ainda que não possua o domínio como proprietário.',\n",
       " '§ 1º O titulo de legitimação do imóvel e a quitação das contribuições previdenciárias da construção serão averbadas no Cartório de Registro de Imóveis da Comarca competente.',\n",
       " '§ 2ª Após averbação da construção no registro do titulo, o imóvel se torna automaticamente negociável e alienável. e registrado no * C D1 92 84 62 90 10 0 * PL n. 4 22 6 / 20 19 Ap re se nt aç ão : 0 6 / 08 / 2 01 9 13 : 1 0 CÂMARA DOS DEPUTADOS Cartório de Imóveis da Comarca, desde que o terreno esteja dentro da área urbana, ora matriculada, como de domínio do Município ;',\n",
       " '§ 3º O Titulo de Legitimação é o instrumento formal a transferir o domínio de bens disponível para o particular ou terceiro.',\n",
       " 'Art. 4 O processo administrativo de regularização de Imóveis é exclusivo de cada município, onde se localiza o imóvel.',\n",
       " 'Art. 5º Fica dispensado o pagamento de multa sobre o auto de infração do imóvel a legitimar, proveniente de autuação pelo não recolhimento da contribuição previdenciária.',\n",
       " 'Art. 6º Esta lei entra em vigor na data de sua publicação.',\n",
       " 'PROJETO DE LEI Nº, DE ( Do Sr.',\n",
       " 'Leonardo Mattos ) Dá nova redação ao inciso XIV do art. 6º da Lei 7. 713, de 22 de dezembro de 1988 que “ Altera a legislação do Imposto de Renda e dá outras providencias ”.',\n",
       " 'O Congresso Nacional decreta :',\n",
       " 'Art. 1º - o inciso XIV do art. 6º da Lei 7. 713, de 22 de dezembro de 1988, passa a viger com a seguinte redação : “',\n",
       " 'Art. 6º...............................................................................................................................................................................................................',\n",
       " \"XIV - os proventos de aposentadoria ou reforma, desde que motivadas por acidente sem serviços, e os percebidos pelos portadores de moléstia profissional, tuberculose ativa, alienação mental, esclerose - múltipla, neoplasia maligna, cegueira, hanseníase, paralisia irreversível e incapacitante, cardiopatia grave, doença de Parkinson, espondiloartrose anquilosante, nefropatia grave, estados avançados da doença de Paget ( osteíte deformante ), contaminação por radiação, Síndrome de Trombofilia, Síndrome de Charcot - Marie - Tooth Síndrome da imunodeficiência adquirida, com base em conclusão da medicina especializada, mesmo que a doença tenha sido contraída depois da aposentadoria ou reforma. ( NR )''\",\n",
       " 'Art. 2º - Esta lei entra em vigor na data de sua publicação.',\n",
       " 'REQUERIMENTO DE INFORMAÇÃO nº, de de agosto de 2007 ( Do Sr. SARNEY FILHO )',\n",
       " 'Requerimento de Informação ao Senhor Ministro das Relações Exteriores, sobre as providências adotadas por aquele Ministério, no combate a exploração ilegal de madeira da floresta amazônica, no Estado do Acre, por madeireiras instaladas em território peruano.',\n",
       " 'Senhor Presidente, Com fundamento no art. 50, § 2º, da Constituição Federal, combinado com os artigos 115, inciso I, e 116, ambos do Regimento Interno da Câmara dos Deputados, solicito a Vossa Excelência que seja encaminhado ao Senhor Ministro das Relações Exteriores o presente Pedido de Informação, tendo em vista às notícias veiculadas no Jornal Nacional, da Rede Globo, do dia 27.',\n",
       " '07. 2007, sobre a exploração ilegal de madeira da floresta amazônica, no Estado do Acre, por madeireiras instaladas em território peruano. Noticiou a matéria que durante uma operação do Ibama, juntamente com o Exército e Polícia Federal, foram identificados cerca de 70 pontos de exploração madeireira, numa área de aproximadamente 340 quilômetros de fronteira, com a agravante de ser também em área do Parque Nacional da Serra do Divisor e uma reserva indígena. Assim sendo, solicito informações sobre as providências adotadas por aquele Ministério, no combate a exploração ilegal de madeira da floresta amazônica, no Estado do Acre, por madeireiras instaladas em território peruano, conforme noticiado. Deputado SARNEY FILHO PV / MA REQUERIMENTO ( Do Sr. Celso Russomanno )',\n",
       " 'Requer o envio de Indicação ao Poder Executivo, relativa à inclusão de pessoas vítimas de queimaduras médias e graves na categoria de deficiência prevista no inciso I do 4º do Decreto nº 3. 298, de 20 de dezembro de 1999, com a redação dada pelo Decreto nº 5. 296, de 2 de dezembro de 2004.',\n",
       " 'Senhor Presidente : Nos termos do art. 113, inciso I e § 1º, do Regimento Interno da Câmara dos Deputados, requeiro a V. Exª. seja encaminhada ao Poder Executivo a Indicação anexa, sugerindo a inclusão de pessoas vítimas de queimaduras médias e graves em categoria de deficiência prevista no inciso I do 4º do Decreto nº 3. 298, de 20 de dezembro de 1999, com a redação dada pelo Decreto nº 5. 296, de 2 de dezembro de 2004.',\n",
       " 'Sala das Sessões, em de de 2009. Deputado CELSO RUSSOMANNO 2009 _ 7880',\n",
       " 'INDICAÇÃO No, DE 2009 ( Do Sr. Celso Russomanno )',\n",
       " 'Sugere a inclusão de pessoas vítimas de queimaduras médias e graves na categoria de deficiência prevista no inciso I do 4º do Decreto nº 3. 298, de 20 de dezembro de 1999, com a redação dada pelo Decreto nº 5. 296, de 2 de dezembro de 2004.',\n",
       " 'Excelentíssimo Senhor Secretário Especial de Direitos Humanos : A Carta Política de 1988 constitui o marco delimitador da visibilidade das demandas das pessoas com deficiência no Brasil. Com efeito, houve o reconhecimento formal dos direitos de cidadania desse segmento, prevendo - se a adoção de diversas medidas tendentes a sua plena inclusão social. Ressalte - se que, a partir de então, a legislação infraconstitucional federal relativa às pessoas com deficiência tem - se tornado bastante extensa, igualando - se, no que tange à qualidade e ao conteúdo, às legislações mais avançadas do mundo. Todavia, a batalha para a concretização das disposições legais está longe de ser concluída, situação agravada pelas atitudes de discriminação e preconceito que ainda permeiam grande parte das suas relações sociais. Nesse contexto, pessoas que sofreram queimaduras médias ou graves, cujas consequências limitaram o exercício de atividades cotidianas e reduziram efetivamente sua capacidade de integração social, são vítimas de estigmas, preconceitos e discriminações que os impedem de 2 exercer plenamente sua cidadania, uma vez que lhes é negado o acesso a direitos fundamentais básicos, como o direito ao trabalho. A situação é agravada pelo fato de não haver previsão expressa, no Decreto nº 3. 298, de 20 de dezembro de 1999, de proteção a esse segmento, situação que os impede de usufruir dos direitos e garantias assegurados às pessoas com deficiência, tanto pelo Texto Constitucional quanto pelas normas infraconstitucionais. Dessa forma, considerando que as pessoas com deficiências decorrentes de queimaduras médias e graves enfrentam barreiras atitudinais para sua inclusão social plena, principalmente no acesso ao direito ao trabalho, solicitamos a revisão do art. 4º, inciso I do Decreto nº 3. 298, de 1999, para incluir as consequências decorrentes de queimaduras médias ou graves entre as deficiências previstas no referido dispositivo.',\n",
       " 'Sala das Sessões, em de de 2009. Deputado CELSO RUSSOMANNO 2009 _ 7880 CÂMARA DOS DEPUTADOS',\n",
       " 'PROJETO DE LEI N. º, DE 2015 ( do Sr. HIDEKAZU TAKAY',\n",
       " '##AMA )',\n",
       " 'Cria a obrigatoriedade da exigência por parte das companhias aéreas que atuam em território nacional da realização de exames médicos e psicotécnicos que assegurem a sanidade mental dos pilotos e copilotos.',\n",
       " 'O CONGRESSO NACIONAL decreta :',\n",
       " 'Art. 1º As companhias aéreas que atuam junto ao território nacional da República Federativa do Brasil ficam obrigadas a realizar exames médicos e psicotécnicos que assegurem a sanidade mental e a boa saúde física dos pilotos e copilotos.',\n",
       " 'Art. 2 º As companhias aéreas ficam obrigadas a arquivar tais documentos médicos pelo prazo de vinte e cinco anos para fins de comprovação.',\n",
       " 'Art. 3 º As companhias aéreas que deixarem de cumprir com qualquer disposto nesta lei serão responsáveis objetivamente por qualquer dano causado por seus agentes, inclusive quanto ao aspecto criminal.',\n",
       " 'Art. 4º Esta lei entra em vigor na data de sua publicação.',\n",
       " 'Sala das Comissões, de de 2015. Deputado HIDEKAZU TAKAYAMA CÂMARA DOS DEPUTADOS']"
      ]
     },
     "execution_count": 10,
     "metadata": {},
     "output_type": "execute_result"
    }
   ],
   "source": [
    "segmenter_lstm_onnx_quantized(curated_df_subsample, show_progress_bar=True)"
   ]
  },
  {
   "cell_type": "markdown",
   "id": "2924b9fe",
   "metadata": {},
   "source": [
    "## Quantizing BERT"
   ]
  },
  {
   "cell_type": "code",
   "execution_count": 11,
   "id": "1234f421",
   "metadata": {
    "ExecuteTime": {
     "end_time": "2022-04-29T02:52:04.642116Z",
     "start_time": "2022-04-29T02:52:04.445859Z"
    }
   },
   "outputs": [],
   "source": [
    "segmenter_bert = segmentador.BERTSegmenter(\n",
    "    uri_model=\"../pretrained_segmenter_model/2_6000_layer_model/\",\n",
    "    device=\"cpu\",\n",
    ")"
   ]
  },
  {
   "cell_type": "markdown",
   "id": "2c3137a7",
   "metadata": {},
   "source": [
    "### As Torch JIT format"
   ]
  },
  {
   "cell_type": "code",
   "execution_count": 12,
   "id": "9802ce00",
   "metadata": {
    "ExecuteTime": {
     "end_time": "2022-04-29T02:52:06.849214Z",
     "start_time": "2022-04-29T02:52:04.643657Z"
    }
   },
   "outputs": [
    {
     "name": "stdout",
     "output_type": "stream",
     "text": [
      "Saved quantized Pytorch module (Torch JIT format) in \u001b[34m'./quantized_models/q_segmenter_num_layers_2_vocab_size_6000_pruned_False_bert_model.pt'\u001b[0m. To use it, load a BERT segmenter model as:\n",
      "\n",
      "segmentador.optimize.TorchJITBERTSegmenter(\n",
      "   \u001b[33muri_model=\u001b[34m'./quantized_models/q_segmenter_num_layers_2_vocab_size_6000_pruned_False_bert_model.pt'\u001b[0m,\n",
      "   ...,\n",
      ")\n"
     ]
    }
   ],
   "source": [
    "quantized_bert_torch_paths = segmentador.optimize.quantize_model(\n",
    "    segmenter_bert,\n",
    "    model_output_format=\"torch_jit\",\n",
    "    check_cached=False,\n",
    "    verbose=True,\n",
    ")"
   ]
  },
  {
   "cell_type": "code",
   "execution_count": 13,
   "id": "de752143",
   "metadata": {
    "ExecuteTime": {
     "end_time": "2022-04-29T02:52:06.982273Z",
     "start_time": "2022-04-29T02:52:06.850722Z"
    }
   },
   "outputs": [],
   "source": [
    "segmenter_bert_torch_quantized = segmentador.optimize.TorchJITBERTSegmenter(\n",
    "    uri_model=quantized_bert_torch_paths.output_uri,\n",
    ")"
   ]
  },
  {
   "cell_type": "code",
   "execution_count": 14,
   "id": "fef2c64a",
   "metadata": {
    "ExecuteTime": {
     "end_time": "2022-04-29T02:52:07.770734Z",
     "start_time": "2022-04-29T02:52:06.983374Z"
    }
   },
   "outputs": [
    {
     "data": {
      "application/vnd.jupyter.widget-view+json": {
       "model_id": "d34d8ee7e9c9441c97f25022e1c542aa",
       "version_major": 2,
       "version_minor": 0
      },
      "text/plain": [
       "  0%|          | 0/1 [00:00<?, ?it/s]"
      ]
     },
     "metadata": {},
     "output_type": "display_data"
    },
    {
     "data": {
      "text/plain": [
       "['INDICAÇÃO Nº DE 2008 ( Do Sr. Hermes Parcianello )',\n",
       " 'Indica ao Ministério da Educação a inclusão no ProInfância do município de LARANJEIRAS DO SUL, no estado do Paraná.',\n",
       " 'Excelentíssimo Senhor Ministro de Estado da Educação, Considerando que a construção de creches e escolas de educação infantil e a reestruturação e aquisição de equipamentos para a rede física escolar desse nível educacional são indispensáveis à melhoria da educação. Considerando um grande percentual de mulheres chefes de família com filhos menores que necessitam de local adequado para deixar seus filhos e que o Programa disponibiliza o atendimento de até 120 crianças em período integral ou até 240 crianças, se distribuídos em turnos matutinos e vespertinos. Considerando que o município ao ser atendido pelo Programa priorizará a acessibilidade, fazendo as adequações necessárias a fim de permitir seu uso por portadores de necessidades especiais. Considerando que a edificação será composta de um bloco administrativo, um de serviço, dois pedagógicos, além de áreas para recreação e multiuso, totalizando uma área de aproximadamente 1. 118, 46m2 e que o valor aproximado será de R $ 950. 339, 28 ( novecentos e cinqüenta mil, trezentos e trinta e nove reais e vinte e oito centavos ) Considerando ainda que o município preencha os requisitos exigidos pelo FNDE ; entendemos que é imprescindível a inclusão de LARANJEIRAS DO SUL - PR no Programa Nacional de Reestruturação e Aparelhamento da Rede Escolar Pública de Educação Infantil.',\n",
       " 'Sala das Sessões, em dezembro de 2008 Deputado HERMES PARCIANELLO',\n",
       " 'REQUERIMENTO ( Do Sr. HERMES PARCIANELLO )',\n",
       " 'Requer o envio de Indicação ao Poder Executivo, relativo à inclusão do município de LARANJEIRAS DO SUL, no estado do Paraná no ProInfância.',\n",
       " 'Senhor Presidente, Nos termos do art. 113, inciso I e § 1º do Regimento Interno da Câmara dos Deputados, requeiro a Vossa Excelência seja encaminhada ao Poder Executivo a Indicação em anexo, designando a inclusão do município LARANJEIRAS DO SUL no ProInfância.',\n",
       " 'Sala de Sessões, em de dezembro de 2008 Deputado HERMES PARCIANELLO CÂMARA DOS DEPUTADOS',\n",
       " 'PROJETO DE LEI Nº, DE 2019. ( Do Sr. BOCA ABERTA ) Dispõe sobre a legitimação dos imóveis urbanos que não possuem escritura pública e dá providencias, em âmbito nacional.',\n",
       " 'O Congresso Nacional decreta :',\n",
       " 'Art. 1º - Dispõe sobre a legitimação dos imóveis urbanos que não possuem escritura pública e dá outras providencias.',\n",
       " 'Artigo 2º Regularizar os imóveis urbanos que não dispõem de registros públicos.',\n",
       " '§ 1º Autoriza a União, dentre as áreas urbanas, onde lhe é de domínio, por força de lei, legitimar os imóveis urbanos nele existentes, e que, não possuem escritura pública.',\n",
       " '§ 2º A legitimação das áreas é transmitida por doação a seus possuidores ou detentores da posse, mediante Processo Administrativo de Regulamentação dos Terrenos Urbanos, de incumbência de cada município por meio de Título de Legitimação ;',\n",
       " 'Art. 3º Será considerado dono do imóvel construído a pessoa física ou jurídica detentora de documentos públicos ou particulares que certifica ou declara a sua aquisição, ainda que não possua o domínio como proprietário.',\n",
       " '§ 1º O titulo de legitimação do imóvel e a quitação das contribuições previdenciárias da construção serão averbadas no Cartório de Registro de Imóveis da Comarca competente.',\n",
       " '§ 2ª Após averbação da construção no registro do titulo, o imóvel se torna automaticamente negociável e alienável. e registrado no * C D1 92 84 62 90 10 0 * PL n. 4 22 6 / 20 19 Ap re se nt aç ão : 0 6 / 08 / 2 01 9 13 : 1 0 CÂMARA DOS DEPUTADOS Cartório de Imóveis da Comarca, desde que o terreno esteja dentro da área urbana, ora matriculada, como de domínio do Município ;',\n",
       " '§ 3º O Titulo de Legitimação é o instrumento formal a transferir o domínio de bens disponível para o particular ou terceiro.',\n",
       " 'Art. 4 O processo administrativo de regularização de Imóveis é exclusivo de cada município, onde se localiza o imóvel.',\n",
       " 'Art. 5º Fica dispensado o pagamento de multa sobre o auto de infração do imóvel a legitimar, proveniente de autuação pelo não recolhimento da contribuição previdenciária.',\n",
       " 'Art. 6º Esta lei entra em vigor na data de sua publicação.',\n",
       " 'PROJETO DE LEI Nº, DE ( Do Sr. Leonardo Mattos ) Dá nova redação ao inciso XIV do art. 6º da Lei 7. 713, de 22 de dezembro de 1988 que “ Altera a legislação do Imposto de Renda e dá outras providencias ”.',\n",
       " 'O Congresso Nacional decreta :',\n",
       " 'Art. 1º - o inciso XIV do art. 6º da Lei 7. 713, de 22 de dezembro de 1988, passa a viger com a seguinte redação : “',\n",
       " 'Art. 6º...............................................................................................................................................................................................................',\n",
       " \"XIV - os proventos de aposentadoria ou reforma, desde que motivadas por acidente sem serviços, e os percebidos pelos portadores de moléstia profissional, tuberculose ativa, alienação mental, esclerose - múltipla, neoplasia maligna, cegueira, hanseníase, paralisia irreversível e incapacitante, cardiopatia grave, doença de Parkinson, espondiloartrose anquilosante, nefropatia grave, estados avançados da doença de Paget ( osteíte deformante ), contaminação por radiação, Síndrome de Trombofilia, Síndrome de Charcot - Marie - Tooth Síndrome da imunodeficiência adquirida, com base em conclusão da medicina especializada, mesmo que a doença tenha sido contraída depois da aposentadoria ou reforma. ( NR )''\",\n",
       " 'Art. 2º - Esta lei entra em vigor na data de sua publicação.',\n",
       " 'REQUERIMENTO DE INFORMAÇÃO nº, de de agosto de 2007 ( Do Sr. SARNEY FILHO ) Requerimento de Informação ao Senhor Ministro das Relações Exteriores, sobre as providências adotadas por aquele Ministério, no combate a exploração ilegal de madeira da floresta amazônica, no Estado do Acre, por madeireiras instaladas em território peruano.',\n",
       " 'Senhor Presidente, Com fundamento no art. 50, § 2º, da Constituição Federal, combinado com os artigos 115, inciso I, e 116, ambos do Regimento Interno da Câmara dos Deputados, solicito a Vossa Excelência que seja encaminhado ao Senhor Ministro das Relações Exteriores o presente Pedido de Informação, tendo em vista às notícias veiculadas no Jornal Nacional, da Rede Globo, do dia 27.',\n",
       " '07. 2007, sobre a exploração ilegal de madeira da floresta amazônica, no Estado do Acre, por madeireiras instaladas em território peruano. Noticiou a matéria que durante uma operação do Ibama, juntamente com o Exército e Polícia Federal, foram identificados cerca de 70 pontos de exploração madeireira, numa área de aproximadamente 340 quilômetros de fronteira, com a agravante de ser também em área do Parque Nacional da Serra do Divisor e uma reserva indígena. Assim sendo, solicito informações sobre as providências adotadas por aquele Ministério, no combate a exploração ilegal de madeira da floresta amazônica, no Estado do Acre, por madeireiras instaladas em território peruano, conforme noticiado. Deputado SARNEY FILHO PV / MA',\n",
       " 'REQUERIMENTO ( Do Sr. Celso Russomanno )',\n",
       " 'Requer o envio de Indicação ao Poder Executivo, relativa à inclusão de pessoas vítimas de queimaduras médias e graves na categoria de deficiência prevista no inciso I do 4º do Decreto nº 3. 298, de 20 de dezembro de 1999, com a redação dada pelo Decreto nº 5. 296, de 2 de dezembro de 2004.',\n",
       " 'Senhor Presidente : Nos termos do art. 113, inciso I e § 1º, do Regimento Interno da Câmara dos Deputados, requeiro a V. Exª. seja encaminhada ao Poder Executivo a Indicação anexa, sugerindo a inclusão de pessoas vítimas de queimaduras médias e graves em categoria de deficiência prevista no inciso I do 4º do Decreto nº 3. 298, de 20 de dezembro de 1999, com a redação dada pelo Decreto nº 5. 296, de 2 de dezembro de 2004.',\n",
       " 'Sala das Sessões, em de de 2009. Deputado CELSO RUSSOMANNO 2009 _ 7880',\n",
       " 'INDICAÇÃO No, DE 2009 ( Do Sr. Celso Russomanno )',\n",
       " 'Sugere a inclusão de pessoas vítimas de queimaduras médias e graves na categoria de deficiência prevista no inciso I do 4º do Decreto nº 3. 298, de 20 de dezembro de 1999, com a redação dada pelo Decreto nº 5. 296, de 2 de dezembro de 2004.',\n",
       " 'Excelentíssimo Senhor Secretário Especial de Direitos Humanos : A Carta Política de 1988 constitui o marco delimitador da visibilidade das demandas das pessoas com deficiência no Brasil. Com efeito, houve o reconhecimento formal dos direitos de cidadania desse segmento, prevendo - se a adoção de diversas medidas tendentes a sua plena inclusão social. Ressalte - se que, a partir de então, a legislação infraconstitucional federal relativa às pessoas com deficiência tem - se tornado bastante extensa, igualando - se, no que tange à qualidade e ao conteúdo, às legislações mais avançadas do mundo. Todavia, a batalha para a concretização das disposições legais está longe de ser concluída, situação agravada pelas atitudes de discriminação e preconceito que ainda permeiam grande parte das suas relações sociais. Nesse contexto, pessoas que sofreram queimaduras médias ou graves, cujas consequências limitaram o exercício de atividades cotidianas e reduziram efetivamente sua capacidade de integração social, são vítimas de estigmas, preconceitos e discriminações que os impedem de 2 exercer plenamente sua cidadania, uma vez que lhes é negado o acesso a direitos fundamentais básicos, como o direito ao trabalho. A situação é agravada pelo fato de não haver previsão expressa, no Decreto nº 3. 298, de 20 de dezembro de 1999, de proteção a esse segmento, situação que os impede de usufruir dos direitos e garantias assegurados às pessoas com deficiência, tanto pelo Texto Constitucional quanto pelas normas infraconstitucionais. Dessa forma, considerando que as pessoas com deficiências decorrentes de queimaduras médias e graves enfrentam barreiras atitudinais para sua inclusão social plena, principalmente no acesso ao direito ao trabalho, solicitamos a revisão do art. 4º, inciso I do Decreto nº 3. 298, de 1999, para incluir as consequências decorrentes de queimaduras médias ou graves entre as deficiências previstas no referido dispositivo.',\n",
       " 'Sala das Sessões, em de de 2009. Deputado CELSO RUSSOMANNO 2009 _ 7880 CÂMARA DOS DEPUTADOS PROJETO DE LEI N. º, DE 2015 ( do Sr. HIDEKAZU TAKAYAMA )',\n",
       " 'Cria a obrigatoriedade da exigência por parte das companhias aéreas que atuam em território nacional da realização de exames médicos e psicotécnicos que assegurem a sanidade mental dos pilotos e copilotos.',\n",
       " 'O CONGRESSO NACIONAL decreta :',\n",
       " 'Art. 1º As companhias aéreas que atuam junto ao território nacional da República Federativa do Brasil ficam obrigadas a realizar exames médicos e psicotécnicos que assegurem a sanidade mental e a boa saúde física dos pilotos e copilotos.',\n",
       " 'Art. 2 º As companhias aéreas ficam obrigadas a arquivar tais documentos médicos pelo prazo de vinte e cinco anos para fins de comprovação.',\n",
       " 'Art. 3 º As companhias aéreas que deixarem de cumprir com qualquer disposto nesta lei serão responsáveis objetivamente por qualquer dano causado por seus agentes, inclusive quanto ao aspecto criminal.',\n",
       " 'Art. 4º Esta lei entra em vigor na data de sua publicação.',\n",
       " 'Sala das Comissões, de de 2015. Deputado HIDEKAZU TAKAYAMA CÂMARA DOS DEPUTADOS']"
      ]
     },
     "execution_count": 14,
     "metadata": {},
     "output_type": "execute_result"
    }
   ],
   "source": [
    "segmenter_bert_torch_quantized(curated_df_subsample, show_progress_bar=True)"
   ]
  },
  {
   "cell_type": "markdown",
   "id": "3daa481b",
   "metadata": {},
   "source": [
    "### As ONNX format"
   ]
  },
  {
   "cell_type": "code",
   "execution_count": 15,
   "id": "260352c3",
   "metadata": {
    "ExecuteTime": {
     "end_time": "2022-04-29T02:52:11.942740Z",
     "start_time": "2022-04-29T02:52:07.772236Z"
    }
   },
   "outputs": [
    {
     "name": "stderr",
     "output_type": "stream",
     "text": [
      "2022-04-28 23:52:08.476016191 [W:onnxruntime:, inference_session.cc:1546 Initialize] Serializing optimized model with Graph Optimization level greater than ORT_ENABLE_EXTENDED and the NchwcTransformer enabled. The generated model may contain hardware specific optimizations, and should only be used in the same environment the model was optimized in.\n",
      "WARNING:fusion_skiplayernorm:symbolic shape infer failed. it's safe to ignore this message if there is no issue with optimized model\n",
      "WARNING:fusion_skiplayernorm:symbolic shape infer failed. it's safe to ignore this message if there is no issue with optimized model\n",
      "WARNING:fusion_skiplayernorm:symbolic shape infer failed. it's safe to ignore this message if there is no issue with optimized model\n",
      "WARNING:fusion_skiplayernorm:symbolic shape infer failed. it's safe to ignore this message if there is no issue with optimized model\n",
      "WARNING:fusion_skiplayernorm:symbolic shape infer failed. it's safe to ignore this message if there is no issue with optimized model\n"
     ]
    },
    {
     "name": "stdout",
     "output_type": "stream",
     "text": [
      "failed in shape inference <class 'AssertionError'>\n",
      "failed in shape inference <class 'AssertionError'>\n",
      "Saved quantized BERT (ONNX format) in \u001b[34m'./quantized_models/q_segmenter_num_layers_2_vocab_size_6000_pruned_False_bert_model_99_opt_level.onnx'\u001b[0m, and its configuration file in \u001b[34m'./quantized_models/q_segmenter_num_layers_2_vocab_size_6000_pruned_False_bert_model_99_opt_level.config'\u001b[0m. To use it, load a BERT segmenter model as:\n",
      "\n",
      "segmentador.optimize.ONNXBERTSegmenter(\n",
      "   \u001b[33muri_model=\u001b[34m'./quantized_models/q_segmenter_num_layers_2_vocab_size_6000_pruned_False_bert_model_99_opt_level.onnx'\u001b[0m,\n",
      "   uri_tokenizer='../pretrained_segmenter_model/2_6000_layer_model/',\n",
      "   \u001b[33muri_onnx_config=\u001b[34m'./quantized_models/q_segmenter_num_layers_2_vocab_size_6000_pruned_False_bert_model_99_opt_level.config'\u001b[0m,\n",
      "   ...,\n",
      ")\n"
     ]
    }
   ],
   "source": [
    "quantized_bert_onnx_paths = segmentador.optimize.quantize_model(\n",
    "    segmenter_bert,\n",
    "    model_output_format=\"onnx\",\n",
    "    check_cached=False,\n",
    "    verbose=True,\n",
    ")"
   ]
  },
  {
   "cell_type": "code",
   "execution_count": 16,
   "id": "ddae3d3c",
   "metadata": {
    "ExecuteTime": {
     "end_time": "2022-04-29T02:52:11.970396Z",
     "start_time": "2022-04-29T02:52:11.944362Z"
    }
   },
   "outputs": [],
   "source": [
    "segmenter_bert_onnx_quantized = segmentador.optimize.ONNXBERTSegmenter(\n",
    "    uri_model=quantized_bert_onnx_paths.output_uri,\n",
    "    uri_tokenizer=segmenter_bert.tokenizer.name_or_path,\n",
    "    uri_onnx_config=quantized_bert_onnx_paths.onnx_config_uri,\n",
    ")"
   ]
  },
  {
   "cell_type": "code",
   "execution_count": 17,
   "id": "5adda43e",
   "metadata": {
    "ExecuteTime": {
     "end_time": "2022-04-29T02:52:12.751899Z",
     "start_time": "2022-04-29T02:52:11.971542Z"
    }
   },
   "outputs": [
    {
     "data": {
      "application/vnd.jupyter.widget-view+json": {
       "model_id": "dc910a62521b4193a5ea0979ed02b474",
       "version_major": 2,
       "version_minor": 0
      },
      "text/plain": [
       "  0%|          | 0/1 [00:00<?, ?it/s]"
      ]
     },
     "metadata": {},
     "output_type": "display_data"
    },
    {
     "data": {
      "text/plain": [
       "['INDICAÇÃO Nº DE 2008 ( Do Sr. Hermes Parcianello )',\n",
       " 'Indica ao Ministério da Educação a inclusão no ProInfância do município de LARANJEIRAS DO SUL, no estado do Paraná.',\n",
       " 'Excelentíssimo Senhor Ministro de Estado da Educação, Considerando que a construção de creches e escolas de educação infantil e a reestruturação e aquisição de equipamentos para a rede física escolar desse nível educacional são indispensáveis à melhoria da educação. Considerando um grande percentual de mulheres chefes de família com filhos menores que necessitam de local adequado para deixar seus filhos e que o Programa disponibiliza o atendimento de até 120 crianças em período integral ou até 240 crianças, se distribuídos em turnos matutinos e vespertinos. Considerando que o município ao ser atendido pelo Programa priorizará a acessibilidade, fazendo as adequações necessárias a fim de permitir seu uso por portadores de necessidades especiais. Considerando que a edificação será composta de um bloco administrativo, um de serviço, dois pedagógicos, além de áreas para recreação e multiuso, totalizando uma área de aproximadamente 1. 118, 46m2 e que o valor aproximado será de R $ 950. 339, 28 ( novecentos e cinqüenta mil, trezentos e trinta e nove reais e vinte e oito centavos ) Considerando ainda que o município preencha os requisitos exigidos pelo FNDE ; entendemos que é imprescindível a inclusão de LARANJEIRAS DO SUL - PR no Programa Nacional de Reestruturação e Aparelhamento da Rede Escolar Pública de Educação Infantil.',\n",
       " 'Sala das Sessões, em dezembro de 2008 Deputado HERMES PARCIANELLO',\n",
       " 'REQUERIMENTO ( Do Sr. HERMES PARCIANELLO )',\n",
       " 'Requer o envio de Indicação ao Poder Executivo, relativo à inclusão do município de LARANJEIRAS DO SUL, no estado do Paraná no ProInfância.',\n",
       " 'Senhor Presidente, Nos termos do art. 113, inciso I e § 1º do Regimento Interno da Câmara dos Deputados, requeiro a Vossa Excelência seja encaminhada ao Poder Executivo a Indicação em anexo, designando a inclusão do município LARANJEIRAS DO SUL no ProInfância.',\n",
       " 'Sala de Sessões, em de dezembro de 2008 Deputado HERMES PARCIANELLO CÂMARA DOS DEPUTADOS',\n",
       " 'PROJETO DE LEI Nº, DE 2019. ( Do Sr. BOCA ABERTA ) Dispõe sobre a legitimação dos imóveis urbanos que não possuem escritura pública e dá providencias, em âmbito nacional.',\n",
       " 'O Congresso Nacional decreta :',\n",
       " 'Art. 1º - Dispõe sobre a legitimação dos imóveis urbanos que não possuem escritura pública e dá outras providencias.',\n",
       " 'Artigo 2º Regularizar os imóveis urbanos que não dispõem de registros públicos.',\n",
       " '§ 1º Autoriza a União, dentre as áreas urbanas, onde lhe é de domínio, por força de lei, legitimar os imóveis urbanos nele existentes, e que, não possuem escritura pública.',\n",
       " '§ 2º A legitimação das áreas é transmitida por doação a seus possuidores ou detentores da posse, mediante Processo Administrativo de Regulamentação dos Terrenos Urbanos, de incumbência de cada município por meio de Título de Legitimação ;',\n",
       " 'Art. 3º Será considerado dono do imóvel construído a pessoa física ou jurídica detentora de documentos públicos ou particulares que certifica ou declara a sua aquisição, ainda que não possua o domínio como proprietário.',\n",
       " '§ 1º O titulo de legitimação do imóvel e a quitação das contribuições previdenciárias da construção serão averbadas no Cartório de Registro de Imóveis da Comarca competente.',\n",
       " '§ 2ª Após averbação da construção no registro do titulo, o imóvel se torna automaticamente negociável e alienável. e registrado no * C D1 92 84 62 90 10 0 * PL n. 4 22 6 / 20 19 Ap re se nt aç ão : 0 6 / 08 / 2 01 9 13 : 1 0 CÂMARA DOS DEPUTADOS Cartório de Imóveis da Comarca, desde que o terreno esteja dentro da área urbana, ora matriculada, como de domínio do Município ;',\n",
       " '§ 3º O Titulo de Legitimação é o instrumento formal a transferir o domínio de bens disponível para o particular ou terceiro.',\n",
       " 'Art. 4 O processo administrativo de regularização de Imóveis é exclusivo de cada município, onde se localiza o imóvel.',\n",
       " 'Art. 5º Fica dispensado o pagamento de multa sobre o auto de infração do imóvel a legitimar, proveniente de autuação pelo não recolhimento da contribuição previdenciária.',\n",
       " 'Art. 6º Esta lei entra em vigor na data de sua publicação.',\n",
       " 'PROJETO DE LEI Nº, DE ( Do Sr. Leonardo Mattos ) Dá nova redação ao inciso XIV do art. 6º da Lei 7. 713, de 22 de dezembro de 1988 que “ Altera a legislação do Imposto de Renda e dá outras providencias ”.',\n",
       " 'O Congresso Nacional decreta :',\n",
       " 'Art. 1º - o inciso XIV do art. 6º da Lei 7. 713, de 22 de dezembro de 1988, passa a viger com a seguinte redação : “',\n",
       " 'Art. 6º...............................................................................................................................................................................................................',\n",
       " \"XIV - os proventos de aposentadoria ou reforma, desde que motivadas por acidente sem serviços, e os percebidos pelos portadores de moléstia profissional, tuberculose ativa, alienação mental, esclerose - múltipla, neoplasia maligna, cegueira, hanseníase, paralisia irreversível e incapacitante, cardiopatia grave, doença de Parkinson, espondiloartrose anquilosante, nefropatia grave, estados avançados da doença de Paget ( osteíte deformante ), contaminação por radiação, Síndrome de Trombofilia, Síndrome de Charcot - Marie - Tooth Síndrome da imunodeficiência adquirida, com base em conclusão da medicina especializada, mesmo que a doença tenha sido contraída depois da aposentadoria ou reforma. ( NR )''\",\n",
       " 'Art. 2º - Esta lei entra em vigor na data de sua publicação.',\n",
       " 'REQUERIMENTO DE INFORMAÇÃO nº, de de agosto de 2007 ( Do Sr. SARNEY FILHO ) Requerimento de Informação ao Senhor Ministro das Relações Exteriores, sobre as providências adotadas por aquele Ministério, no combate a exploração ilegal de madeira da floresta amazônica, no Estado do Acre, por madeireiras instaladas em território peruano.',\n",
       " 'Senhor Presidente, Com fundamento no art. 50, § 2º, da Constituição Federal, combinado com os artigos 115, inciso I, e 116, ambos do Regimento Interno da Câmara dos Deputados, solicito a Vossa Excelência que seja encaminhado ao Senhor Ministro das Relações Exteriores o presente Pedido de Informação, tendo em vista às notícias veiculadas no Jornal Nacional, da Rede Globo, do dia 27.',\n",
       " '07. 2007, sobre a exploração ilegal de madeira da floresta amazônica, no Estado do Acre, por madeireiras instaladas em território peruano. Noticiou a matéria que durante uma operação do Ibama, juntamente com o Exército e Polícia Federal, foram identificados cerca de 70 pontos de exploração madeireira, numa área de aproximadamente 340 quilômetros de fronteira, com a agravante de ser também em área do Parque Nacional da Serra do Divisor e uma reserva indígena. Assim sendo, solicito informações sobre as providências adotadas por aquele Ministério, no combate a exploração ilegal de madeira da floresta amazônica, no Estado do Acre, por madeireiras instaladas em território peruano, conforme noticiado. Deputado SARNEY FILHO PV / MA',\n",
       " 'REQUERIMENTO ( Do Sr. Celso Russomanno )',\n",
       " 'Requer o envio de Indicação ao Poder Executivo, relativa à inclusão de pessoas vítimas de queimaduras médias e graves na categoria de deficiência prevista no inciso I do 4º do Decreto nº 3. 298, de 20 de dezembro de 1999, com a redação dada pelo Decreto nº 5. 296, de 2 de dezembro de 2004.',\n",
       " 'Senhor Presidente : Nos termos do art. 113, inciso I e § 1º, do Regimento Interno da Câmara dos Deputados, requeiro a V. Exª. seja encaminhada ao Poder Executivo a Indicação anexa, sugerindo a inclusão de pessoas vítimas de queimaduras médias e graves em categoria de deficiência prevista no inciso I do 4º do Decreto nº 3. 298, de 20 de dezembro de 1999, com a redação dada pelo Decreto nº 5. 296, de 2 de dezembro de 2004.',\n",
       " 'Sala das Sessões, em de de 2009. Deputado CELSO RUSSOMANNO 2009 _ 7880',\n",
       " 'INDICAÇÃO No, DE 2009 ( Do Sr. Celso Russomanno )',\n",
       " 'Sugere a inclusão de pessoas vítimas de queimaduras médias e graves na categoria de deficiência prevista no inciso I do 4º do Decreto nº 3. 298, de 20 de dezembro de 1999, com a redação dada pelo Decreto nº 5. 296, de 2 de dezembro de 2004.',\n",
       " 'Excelentíssimo Senhor Secretário Especial de Direitos Humanos : A Carta Política de 1988 constitui o marco delimitador da visibilidade das demandas das pessoas com deficiência no Brasil. Com efeito, houve o reconhecimento formal dos direitos de cidadania desse segmento, prevendo - se a adoção de diversas medidas tendentes a sua plena inclusão social. Ressalte - se que, a partir de então, a legislação infraconstitucional federal relativa às pessoas com deficiência tem - se tornado bastante extensa, igualando - se, no que tange à qualidade e ao conteúdo, às legislações mais avançadas do mundo. Todavia, a batalha para a concretização das disposições legais está longe de ser concluída, situação agravada pelas atitudes de discriminação e preconceito que ainda permeiam grande parte das suas relações sociais. Nesse contexto, pessoas que sofreram queimaduras médias ou graves, cujas consequências limitaram o exercício de atividades cotidianas e reduziram efetivamente sua capacidade de integração social, são vítimas de estigmas, preconceitos e discriminações que os impedem de 2 exercer plenamente sua cidadania, uma vez que lhes é negado o acesso a direitos fundamentais básicos, como o direito ao trabalho. A situação é agravada pelo fato de não haver previsão expressa, no Decreto nº 3. 298, de 20 de dezembro de 1999, de proteção a esse segmento, situação que os impede de usufruir dos direitos e garantias assegurados às pessoas com deficiência, tanto pelo Texto Constitucional quanto pelas normas infraconstitucionais. Dessa forma, considerando que as pessoas com deficiências decorrentes de queimaduras médias e graves enfrentam barreiras atitudinais para sua inclusão social plena, principalmente no acesso ao direito ao trabalho, solicitamos a revisão do art. 4º, inciso I do Decreto nº 3. 298, de 1999, para incluir as consequências decorrentes de queimaduras médias ou graves entre as deficiências previstas no referido dispositivo.',\n",
       " 'Sala das Sessões, em de de 2009. Deputado CELSO RUSSOMANNO 2009 _ 7880 CÂMARA DOS DEPUTADOS PROJETO DE LEI N. º, DE 2015 ( do Sr. HIDEKAZU TAKAYAMA )',\n",
       " 'Cria a obrigatoriedade da exigência por parte das companhias aéreas que atuam em território nacional da realização de exames médicos e psicotécnicos que assegurem a sanidade mental dos pilotos e copilotos.',\n",
       " 'O CONGRESSO NACIONAL decreta :',\n",
       " 'Art. 1º As companhias aéreas que atuam junto ao território nacional da República Federativa do Brasil ficam obrigadas a realizar exames médicos e psicotécnicos que assegurem a sanidade mental e a boa saúde física dos pilotos e copilotos.',\n",
       " 'Art. 2 º As companhias aéreas ficam obrigadas a arquivar tais documentos médicos pelo prazo de vinte e cinco anos para fins de comprovação.',\n",
       " 'Art. 3 º As companhias aéreas que deixarem de cumprir com qualquer disposto nesta lei serão responsáveis objetivamente por qualquer dano causado por seus agentes, inclusive quanto ao aspecto criminal.',\n",
       " 'Art. 4º Esta lei entra em vigor na data de sua publicação.',\n",
       " 'Sala das Comissões, de de 2015. Deputado HIDEKAZU TAKAYAMA CÂMARA DOS DEPUTADOS']"
      ]
     },
     "execution_count": 17,
     "metadata": {},
     "output_type": "execute_result"
    }
   ],
   "source": [
    "segmenter_bert_onnx_quantized(curated_df_subsample, show_progress_bar=True)"
   ]
  },
  {
   "cell_type": "markdown",
   "id": "ab8f35d5",
   "metadata": {},
   "source": [
    "## Quantizing Pruned BERT"
   ]
  },
  {
   "cell_type": "markdown",
   "id": "ae53339a",
   "metadata": {},
   "source": [
    "### As Torch JIT format"
   ]
  },
  {
   "cell_type": "code",
   "execution_count": 18,
   "id": "a17aaeb8",
   "metadata": {
    "ExecuteTime": {
     "end_time": "2022-04-29T02:52:12.993298Z",
     "start_time": "2022-04-29T02:52:12.753120Z"
    }
   },
   "outputs": [],
   "source": [
    "segmenter_pruned_bert = segmentador.BERTSegmenter(\n",
    "    uri_model=\"head_pruning/pruned_model\",\n",
    "    device=\"cpu\",\n",
    ")"
   ]
  },
  {
   "cell_type": "code",
   "execution_count": 19,
   "id": "d1dd1030",
   "metadata": {
    "ExecuteTime": {
     "end_time": "2022-04-29T02:52:14.609498Z",
     "start_time": "2022-04-29T02:52:12.994465Z"
    }
   },
   "outputs": [
    {
     "name": "stdout",
     "output_type": "stream",
     "text": [
      "Saved quantized Pytorch module (Torch JIT format) in \u001b[34m'./quantized_models/q_segmenter_num_layers_2_vocab_size_6000_pruned_True_bert_model.pt'\u001b[0m. To use it, load a BERT segmenter model as:\n",
      "\n",
      "segmentador.optimize.TorchJITBERTSegmenter(\n",
      "   \u001b[33muri_model=\u001b[34m'./quantized_models/q_segmenter_num_layers_2_vocab_size_6000_pruned_True_bert_model.pt'\u001b[0m,\n",
      "   ...,\n",
      ")\n"
     ]
    }
   ],
   "source": [
    "quantized_pruned_bert_torch_paths = segmentador.optimize.quantize_model(\n",
    "    segmenter_pruned_bert,\n",
    "    model_output_format=\"torch_jit\",\n",
    "    check_cached=False,\n",
    "    verbose=True,\n",
    ")"
   ]
  },
  {
   "cell_type": "code",
   "execution_count": 20,
   "id": "57729bec",
   "metadata": {
    "ExecuteTime": {
     "end_time": "2022-04-29T02:52:14.730914Z",
     "start_time": "2022-04-29T02:52:14.610936Z"
    }
   },
   "outputs": [],
   "source": [
    "segmenter_pruned_bert_torch_quantized = segmentador.optimize.TorchJITBERTSegmenter(\n",
    "    uri_model=quantized_pruned_bert_torch_paths.output_uri,\n",
    ")"
   ]
  },
  {
   "cell_type": "code",
   "execution_count": 21,
   "id": "7408435b",
   "metadata": {
    "ExecuteTime": {
     "end_time": "2022-04-29T02:52:15.335096Z",
     "start_time": "2022-04-29T02:52:14.732083Z"
    }
   },
   "outputs": [
    {
     "data": {
      "application/vnd.jupyter.widget-view+json": {
       "model_id": "4dd92a92f05b4213b4c8cf31a35dcb6d",
       "version_major": 2,
       "version_minor": 0
      },
      "text/plain": [
       "  0%|          | 0/1 [00:00<?, ?it/s]"
      ]
     },
     "metadata": {},
     "output_type": "display_data"
    },
    {
     "data": {
      "text/plain": [
       "['INDICAÇÃO Nº DE 2008 ( Do Sr. Hermes Parcianello )',\n",
       " 'Indica ao Ministério da Educação a inclusão no ProInfância do município de LARANJEIRAS DO SUL, no estado do Paraná.',\n",
       " 'Excelentíssimo Senhor Ministro de Estado da Educação, Considerando que a construção de creches e escolas de educação infantil e a reestruturação e aquisição de equipamentos para a rede física escolar desse nível educacional são indispensáveis à melhoria da educação. Considerando um grande percentual de mulheres chefes de família com filhos menores que necessitam de local adequado para deixar seus filhos e que o Programa disponibiliza o atendimento de até 120 crianças em período integral ou até 240 crianças, se distribuídos em turnos matutinos e vespertinos. Considerando que o município ao ser atendido pelo Programa priorizará a acessibilidade, fazendo as adequações necessárias a fim de permitir seu uso por portadores de necessidades especiais. Considerando que a edificação será composta de um bloco administrativo, um de serviço, dois pedagógicos, além de áreas para recreação e multiuso, totalizando uma área de aproximadamente 1. 118, 46m2 e que o valor aproximado será de R $ 950. 339, 28 ( novecentos e cinqüenta mil, trezentos e trinta e nove reais e vinte e oito centavos ) Considerando ainda que o município preencha os requisitos exigidos pelo FNDE ; entendemos que é imprescindível a inclusão de LARANJEIRAS DO SUL - PR no Programa Nacional de Reestruturação e Aparelhamento da Rede Escolar Pública de Educação Infantil.',\n",
       " 'Sala das Sessões, em dezembro de 2008 Deputado HERMES PARCIANELLO',\n",
       " 'REQUERIMENTO ( Do Sr. HERMES PARCIANELLO )',\n",
       " 'Requer o envio de Indicação ao Poder Executivo, relativo à inclusão do município de LARANJEIRAS DO SUL, no estado do Paraná no ProInfância.',\n",
       " 'Senhor Presidente, Nos termos do art. 113, inciso I e § 1º do Regimento Interno da Câmara dos Deputados, requeiro a Vossa Excelência seja encaminhada ao Poder Executivo a Indicação em anexo, designando a inclusão do município LARANJEIRAS DO SUL no ProInfância.',\n",
       " 'Sala de Sessões, em de dezembro de 2008 Deputado HERMES PARCIANELLO CÂMARA DOS DEPUTADOS',\n",
       " 'PROJETO DE LEI Nº, DE 2019. ( Do Sr. BOCA ABERTA ) Dispõe sobre a legitimação dos imóveis urbanos que não possuem escritura pública e dá providencias, em âmbito nacional.',\n",
       " 'O Congresso Nacional decreta :',\n",
       " 'Art. 1º -',\n",
       " 'Dispõe sobre a legitimação dos imóveis urbanos que não possuem escritura pública e dá outras providencias.',\n",
       " 'Artigo 2º Regularizar os imóveis urbanos que não dispõem de registros públicos.',\n",
       " '§ 1º Autoriza a União, dentre as áreas urbanas, onde lhe é de domínio, por força de lei, legitimar os imóveis urbanos nele existentes, e que, não possuem escritura pública.',\n",
       " '§ 2º A legitimação das áreas é transmitida por doação a seus possuidores ou detentores da posse, mediante Processo Administrativo de Regulamentação dos Terrenos Urbanos, de incumbência de cada município por meio de Título de Legitimação ;',\n",
       " 'Art. 3º Será considerado dono do imóvel construído a pessoa física ou jurídica detentora de documentos públicos ou particulares que certifica ou declara a sua aquisição, ainda que não possua o domínio como proprietário.',\n",
       " '§ 1º O titulo de legitimação do imóvel e a quitação das contribuições previdenciárias da construção serão averbadas no Cartório de Registro de Imóveis da Comarca competente.',\n",
       " '§ 2ª Após averbação da construção no registro do titulo, o imóvel se torna automaticamente negociável e alienável. e registrado no * C D1 92 84 62 90 10 0 * PL n. 4 22 6 / 20 19 Ap re se nt aç ão : 0 6 / 08 / 2 01 9 13 : 1 0 CÂMARA DOS DEPUTADOS Cartório de Imóveis da Comarca, desde que o terreno esteja dentro da área urbana, ora matriculada, como de domínio do Município ;',\n",
       " '§ 3º O Titulo de Legitimação é o instrumento formal a transferir o domínio de bens disponível para o particular ou terceiro.',\n",
       " 'Art. 4 O processo administrativo de regularização de Imóveis é exclusivo de cada município, onde se localiza o imóvel.',\n",
       " 'Art. 5º Fica dispensado o pagamento de multa sobre o auto de infração do imóvel a legitimar, proveniente de autuação pelo não recolhimento da contribuição previdenciária.',\n",
       " 'Art. 6º Esta lei entra em vigor na data de sua publicação.',\n",
       " 'PROJETO DE LEI Nº, DE ( Do Sr. Leonardo Mattos ) Dá nova redação ao inciso XIV do art. 6º da Lei 7. 713, de 22 de dezembro de 1988 que “ Altera a legislação do Imposto de Renda e dá outras providencias ”.',\n",
       " 'O Congresso Nacional decreta :',\n",
       " 'Art. 1º - o inciso XIV do art. 6º da Lei 7. 713, de 22 de dezembro de 1988, passa a viger com a seguinte redação : “',\n",
       " 'Art. 6º...............................................................................................................................................................................................................',\n",
       " \"XIV - os proventos de aposentadoria ou reforma, desde que motivadas por acidente sem serviços, e os percebidos pelos portadores de moléstia profissional, tuberculose ativa, alienação mental, esclerose - múltipla, neoplasia maligna, cegueira, hanseníase, paralisia irreversível e incapacitante, cardiopatia grave, doença de Parkinson, espondiloartrose anquilosante, nefropatia grave, estados avançados da doença de Paget ( osteíte deformante ), contaminação por radiação, Síndrome de Trombofilia, Síndrome de Charcot - Marie - Tooth Síndrome da imunodeficiência adquirida, com base em conclusão da medicina especializada, mesmo que a doença tenha sido contraída depois da aposentadoria ou reforma. ( NR )''\",\n",
       " 'Art. 2º - Esta lei entra em vigor na data de sua publicação.',\n",
       " 'REQUERIMENTO DE INFORMAÇÃO nº, de de agosto de 2007 ( Do Sr. SARNEY FILHO ) Requerimento de Informação ao Senhor Ministro das Relações Exteriores, sobre as providências adotadas por aquele Ministério, no combate a exploração ilegal de madeira da floresta amazônica, no Estado do Acre, por madeireiras instaladas em território peruano.',\n",
       " 'Senhor Presidente, Com fundamento no art. 50, § 2º, da Constituição Federal, combinado com os artigos 115, inciso I, e 116, ambos do Regimento Interno da Câmara dos Deputados, solicito a Vossa Excelência que seja encaminhado ao Senhor Ministro das Relações Exteriores o presente Pedido de Informação, tendo em vista às notícias veiculadas no Jornal Nacional, da Rede Globo, do dia 27. 07. 2007, sobre a exploração ilegal de madeira da floresta amazônica, no Estado do Acre, por madeireiras instaladas em território peruano. Noticiou a matéria que durante uma operação do Ibama, juntamente com o Exército e Polícia Federal, foram identificados cerca de 70 pontos de exploração madeireira, numa área de aproximadamente 340 quilômetros de fronteira, com a agravante de ser também em área do Parque Nacional da Serra do Divisor e uma reserva indígena. Assim sendo, solicito informações sobre as providências adotadas por aquele Ministério, no combate a exploração ilegal de madeira da floresta amazônica, no Estado do Acre, por madeireiras instaladas em território peruano, conforme noticiado. Deputado SARNEY FILHO PV / MA',\n",
       " 'REQUERIMENTO ( Do Sr. Celso Russomanno )',\n",
       " 'Requer o envio de Indicação ao Poder Executivo, relativa à inclusão de pessoas vítimas de queimaduras médias e graves na categoria de deficiência prevista no inciso I do 4º do Decreto nº 3. 298, de 20 de dezembro de 1999, com a redação dada pelo Decreto nº 5. 296, de 2 de dezembro de 2004.',\n",
       " 'Senhor Presidente : Nos termos do art. 113, inciso I e § 1º, do Regimento Interno da Câmara dos Deputados, requeiro a V. Exª. seja encaminhada ao Poder Executivo a Indicação anexa, sugerindo a inclusão de pessoas vítimas de queimaduras médias e graves em categoria de deficiência prevista no inciso I do 4º do Decreto nº 3. 298, de 20 de dezembro de 1999, com a redação dada pelo Decreto nº 5. 296, de 2 de dezembro de 2004.',\n",
       " 'Sala das Sessões, em de de 2009. Deputado CELSO RUSSOMANNO 2009 _ 7880',\n",
       " 'INDICAÇÃO No, DE 2009 ( Do Sr. Celso Russomanno )',\n",
       " 'Sugere a inclusão de pessoas vítimas de queimaduras médias e graves na categoria de deficiência prevista no inciso I do 4º do Decreto nº 3. 298, de 20 de dezembro de 1999, com a redação dada pelo Decreto nº 5. 296, de 2 de dezembro de 2004.',\n",
       " 'Excelentíssimo Senhor Secretário Especial de Direitos Humanos : A Carta Política de 1988 constitui o marco delimitador da visibilidade das demandas das pessoas com deficiência no Brasil. Com efeito, houve o reconhecimento formal dos direitos de cidadania desse segmento, prevendo - se a adoção de diversas medidas tendentes a sua plena inclusão social. Ressalte - se que, a partir de então, a legislação infraconstitucional federal relativa às pessoas com deficiência tem - se tornado bastante extensa, igualando - se, no que tange à qualidade e ao conteúdo, às legislações mais avançadas do mundo. Todavia, a batalha para a concretização das disposições legais está longe de ser concluída, situação agravada pelas atitudes de discriminação e preconceito que ainda permeiam grande parte das suas relações sociais. Nesse contexto, pessoas que sofreram queimaduras médias ou graves, cujas consequências limitaram o exercício de atividades cotidianas e reduziram efetivamente sua capacidade de integração social, são vítimas de estigmas, preconceitos e discriminações que os impedem de 2 exercer plenamente sua cidadania, uma vez que lhes é negado o acesso a direitos fundamentais básicos, como o direito ao trabalho. A situação é agravada pelo fato de não haver previsão expressa, no Decreto nº 3. 298, de 20 de dezembro de 1999, de proteção a esse segmento, situação que os impede de usufruir dos direitos e garantias assegurados às pessoas com deficiência, tanto pelo Texto Constitucional quanto pelas normas infraconstitucionais. Dessa forma, considerando que as pessoas com deficiências decorrentes de queimaduras médias e graves enfrentam barreiras atitudinais para sua inclusão social plena, principalmente no acesso ao direito ao trabalho, solicitamos a revisão do art. 4º, inciso I do Decreto nº 3. 298, de 1999, para incluir as consequências decorrentes de queimaduras médias ou graves entre as deficiências previstas no referido dispositivo.',\n",
       " 'Sala das Sessões, em de de 2009. Deputado CELSO RUSSOMANNO 2009 _ 7880 CÂMARA DOS DEPUTADOS PROJETO DE LEI N. º, DE 2015 ( do Sr. HIDEKAZU TAKAYAMA )',\n",
       " 'Cria a obrigatoriedade da exigência por parte das companhias aéreas que atuam em território nacional da realização de exames médicos e psicotécnicos que assegurem a sanidade mental dos pilotos e copilotos.',\n",
       " 'O CONGRESSO NACIONAL decreta :',\n",
       " 'Art. 1º As companhias aéreas que atuam junto ao território nacional da República Federativa do Brasil ficam obrigadas a realizar exames médicos e psicotécnicos que assegurem a sanidade mental e a boa saúde física dos pilotos e copilotos.',\n",
       " 'Art. 2 º As companhias aéreas ficam obrigadas a arquivar tais documentos médicos pelo prazo de vinte e cinco anos para fins de comprovação.',\n",
       " 'Art. 3 º As companhias aéreas que deixarem de cumprir com qualquer disposto nesta lei serão responsáveis objetivamente por qualquer dano causado por seus agentes, inclusive quanto ao aspecto criminal.',\n",
       " 'Art. 4º Esta lei entra em vigor na data de sua publicação.',\n",
       " 'Sala das Comissões, de de 2015. Deputado HIDEKAZU TAKAYAMA CÂMARA DOS DEPUTADOS']"
      ]
     },
     "execution_count": 21,
     "metadata": {},
     "output_type": "execute_result"
    }
   ],
   "source": [
    "segmenter_pruned_bert_torch_quantized(curated_df_subsample, show_progress_bar=True)"
   ]
  },
  {
   "cell_type": "markdown",
   "id": "ebabd1d8",
   "metadata": {},
   "source": [
    "### As ONNX Format"
   ]
  },
  {
   "cell_type": "code",
   "execution_count": 22,
   "id": "ee4eef14",
   "metadata": {
    "ExecuteTime": {
     "end_time": "2022-04-29T02:52:15.359987Z",
     "start_time": "2022-04-29T02:52:15.336902Z"
    }
   },
   "outputs": [
    {
     "name": "stdout",
     "output_type": "stream",
     "text": [
      "Pruned BERTs are not supported in ONNX format.\n"
     ]
    }
   ],
   "source": [
    "try:\n",
    "    quantized_bert_torch_paths = segmentador.optimize.quantize_model(\n",
    "        segmenter_pruned_bert,\n",
    "        model_output_format=\"onnx\",\n",
    "        check_cached=False,\n",
    "        verbose=True,\n",
    "    )\n",
    "\n",
    "except RuntimeError:\n",
    "    print(\"Pruned BERTs are not supported in ONNX format.\")"
   ]
  },
  {
   "cell_type": "markdown",
   "id": "a0e6ebed",
   "metadata": {},
   "source": [
    "## Validating performance of distinct configurations"
   ]
  },
  {
   "cell_type": "markdown",
   "id": "26afa793",
   "metadata": {},
   "source": [
    "### Collecting results"
   ]
  },
  {
   "cell_type": "code",
   "execution_count": 23,
   "id": "1c6fcc9a",
   "metadata": {
    "ExecuteTime": {
     "end_time": "2022-04-29T02:52:15.386270Z",
     "start_time": "2022-04-29T02:52:15.361632Z"
    }
   },
   "outputs": [],
   "source": [
    "def validate(\n",
    "    model,\n",
    "    moving_window_size: int = 1024,\n",
    "    window_shift_size: float = 0.5,\n",
    "    batch_size: int = 64,\n",
    "    num_shards: t.Optional[int] = None,\n",
    "    repeats: int = 3,\n",
    "    show_progress_bar: bool = False,\n",
    ") -> dict[str, float]:\n",
    "\n",
    "    sharded_df = curated_df\n",
    "\n",
    "    if num_shards is not None:\n",
    "        sharded_df = curated_df.shard(num_shards=num_shards, index=0)\n",
    "\n",
    "    min_t_delta = np.inf\n",
    "\n",
    "    for _ in range(repeats):\n",
    "        t_start = timeit.time.perf_counter()\n",
    "\n",
    "        logits = model(\n",
    "            sharded_df,\n",
    "            batch_size=batch_size,\n",
    "            return_logits=True,\n",
    "            show_progress_bar=show_progress_bar,\n",
    "            window_shift_size=window_shift_size,\n",
    "            moving_window_size=moving_window_size,\n",
    "        ).logits\n",
    "\n",
    "        t_delta = timeit.time.perf_counter() - t_start\n",
    "\n",
    "        min_t_delta = min(min_t_delta, t_delta)\n",
    "\n",
    "    metrics = eval_model.compute_metrics(\n",
    "        ([logits], [np.concatenate(sharded_df[\"labels\"])]),\n",
    "    )\n",
    "    metrics[\"approx_inference_time\"] = min_t_delta\n",
    "\n",
    "    return metrics"
   ]
  },
  {
   "cell_type": "code",
   "execution_count": 24,
   "id": "100ce9fa",
   "metadata": {
    "ExecuteTime": {
     "end_time": "2022-04-29T02:52:15.410557Z",
     "start_time": "2022-04-29T02:52:15.387417Z"
    },
    "scrolled": true
   },
   "outputs": [],
   "source": [
    "quantized_model_paths: dict[tuple[t.Type, str, int], tuple[str, ...]] = {}\n",
    "\n",
    "for base_model in (segmenter_bert, segmenter_lstm, segmenter_pruned_bert):\n",
    "    for model_output_format in (\"onnx\", \"torch_jit\"):\n",
    "        if model_output_format == \"onnx\":\n",
    "            optimization_levels = (99,)\n",
    "\n",
    "        else:\n",
    "            optimization_levels = (0,)\n",
    "\n",
    "        for optimization_level in optimization_levels:\n",
    "            try:\n",
    "                output_paths = segmentador.optimize.quantize_model(\n",
    "                    model=base_model,\n",
    "                    quantized_model_dirpath=QUANTIZED_MODELS_DIR,\n",
    "                    model_output_format=model_output_format,\n",
    "                    optimization_level=optimization_level,\n",
    "                    check_cached=True,\n",
    "                    verbose=False,\n",
    "                )\n",
    "\n",
    "            except (RuntimeError, onnx.shape_inference.InferenceError) as err:\n",
    "                output_paths = None\n",
    "\n",
    "            if output_paths:\n",
    "                is_pruned = \"pruned\" if base_model == segmenter_pruned_bert else \"\"\n",
    "                key = (type(base_model), is_pruned, model_output_format, optimization_level)\n",
    "                quantized_model_paths[key] = output_paths"
   ]
  },
  {
   "cell_type": "code",
   "execution_count": 25,
   "id": "6ddc366f",
   "metadata": {
    "ExecuteTime": {
     "end_time": "2022-04-29T02:52:15.436496Z",
     "start_time": "2022-04-29T02:52:15.412057Z"
    }
   },
   "outputs": [],
   "source": [
    "num_shards = None\n",
    "batch_size = 8\n",
    "\n",
    "fn_format_key = lambda *vals: \"\\n\".join(map(str, [v for v in vals if str(v)]))\n",
    "\n",
    "key_bert_pruned = fn_format_key(\"bert\", \"pruned\", \"torch\", \"-\")\n",
    "key_bert = fn_format_key(\"bert\", \"\", \"torch\", \"-\")\n",
    "key_lstm = fn_format_key(\"lstm\", \"\", \"torch\", \"-\")\n",
    "\n",
    "all_results: dict[tuple[t.Type, str, str, int], dict[str, float]] = {}"
   ]
  },
  {
   "cell_type": "code",
   "execution_count": 26,
   "id": "1581b62a",
   "metadata": {
    "ExecuteTime": {
     "end_time": "2022-04-29T03:17:41.824735Z",
     "start_time": "2022-04-29T02:52:15.437623Z"
    }
   },
   "outputs": [],
   "source": [
    "if key_bert_pruned not in all_results:\n",
    "    all_results[key_bert_pruned] = {\n",
    "        **validate(\n",
    "            segmenter_pruned_bert,\n",
    "            num_shards=num_shards,\n",
    "            moving_window_size=512,\n",
    "            window_shift_size=0.25,\n",
    "            batch_size=batch_size,\n",
    "        ),\n",
    "        \"config_opt_level\": \"-\",\n",
    "        \"config_output_format\": \"torch\",\n",
    "        \"config_model_type\": \"bert\",\n",
    "        \"config_is_pruned\": True,\n",
    "    }\n",
    "\n",
    "if key_bert not in all_results:\n",
    "    all_results[key_bert] = {\n",
    "        **validate(\n",
    "            segmenter_bert,\n",
    "            num_shards=num_shards,\n",
    "            moving_window_size=512,\n",
    "            window_shift_size=0.25,\n",
    "            batch_size=batch_size,\n",
    "        ),\n",
    "        \"config_opt_level\": \"-\",\n",
    "        \"config_output_format\": \"torch\",\n",
    "        \"config_model_type\": \"bert\",\n",
    "        \"config_is_pruned\": False,\n",
    "    }\n",
    "\n",
    "if key_lstm not in all_results:\n",
    "    all_results[key_lstm] = {\n",
    "        **validate(\n",
    "            segmenter_lstm,\n",
    "            num_shards=num_shards,\n",
    "            moving_window_size=1024,\n",
    "            window_shift_size=0.5,\n",
    "            batch_size=batch_size,\n",
    "        ),\n",
    "        \"config_opt_level\": \"-\",\n",
    "        \"config_output_format\": \"torch\",\n",
    "        \"config_model_type\": \"lstm\",\n",
    "        \"config_is_pruned\": False,\n",
    "    }"
   ]
  },
  {
   "cell_type": "code",
   "execution_count": 27,
   "id": "6128ee13",
   "metadata": {
    "ExecuteTime": {
     "end_time": "2022-04-29T03:46:29.699598Z",
     "start_time": "2022-04-29T03:17:41.825999Z"
    }
   },
   "outputs": [
    {
     "data": {
      "application/vnd.jupyter.widget-view+json": {
       "model_id": "ae41f19804004adf9b71c2cebb114f73",
       "version_major": 2,
       "version_minor": 0
      },
      "text/plain": [
       "  0%|          | 0/5 [00:00<?, ?it/s]"
      ]
     },
     "metadata": {},
     "output_type": "display_data"
    }
   ],
   "source": [
    "for config, paths in tqdm.auto.tqdm(quantized_model_paths.items()):\n",
    "    model_type, is_pruned, output_format, opt_level = config\n",
    "\n",
    "    algorithm = (\n",
    "        \"lstm\"\n",
    "        if model_type in (segmentador.LSTMSegmenter, segmentador.optimize.TorchJITLSTMSegmenter)\n",
    "        else \"bert\"\n",
    "    )\n",
    "\n",
    "    res: dict[str, float] = {}\n",
    "\n",
    "    res[\"config_opt_level\"] = opt_level\n",
    "    res[\"config_output_format\"] = output_format\n",
    "    res[\"config_model_type\"] = algorithm\n",
    "    res[\"config_is_pruned\"] = is_pruned == \"pruned\"\n",
    "\n",
    "    new_key = fn_format_key(algorithm, is_pruned, output_format, opt_level)\n",
    "\n",
    "    if new_key in all_results:\n",
    "        continue\n",
    "\n",
    "    if output_format == \"onnx\":\n",
    "        if algorithm == \"lstm\":\n",
    "            model_to_validate = segmentador.optimize.ONNXLSTMSegmenter(\n",
    "                uri_model=quantized_lstm_onnx_paths.output_uri,\n",
    "                uri_tokenizer=segmenter_lstm.tokenizer.name_or_path,\n",
    "            )\n",
    "\n",
    "        else:\n",
    "            model_to_validate = segmentador.optimize.ONNXBERTSegmenter(\n",
    "                uri_model=paths.output_uri,\n",
    "                uri_tokenizer=segmenter_bert.tokenizer.name_or_path,\n",
    "                uri_onnx_config=paths.onnx_config_uri,\n",
    "            )\n",
    "\n",
    "    else:\n",
    "        if algorithm == \"lstm\":\n",
    "            model_to_validate = segmentador.optimize.TorchJITLSTMSegmenter(\n",
    "                uri_model=paths.output_uri,\n",
    "            )\n",
    "\n",
    "        else:\n",
    "            model_to_validate = segmentador.optimize.TorchJITBERTSegmenter(\n",
    "                uri_model=paths.output_uri,\n",
    "            )\n",
    "\n",
    "    if algorithm == \"bert\":\n",
    "        kwargs = dict(\n",
    "            moving_window_size=512,\n",
    "            window_shift_size=0.25,\n",
    "        )\n",
    "\n",
    "    else:\n",
    "        kwargs = dict(\n",
    "            moving_window_size=1024,\n",
    "            window_shift_size=0.5,\n",
    "        )\n",
    "\n",
    "    res.update(validate(model_to_validate, num_shards=num_shards, batch_size=batch_size, **kwargs))\n",
    "\n",
    "    all_results[new_key] = res"
   ]
  },
  {
   "cell_type": "code",
   "execution_count": 28,
   "id": "b3a6b3b8",
   "metadata": {
    "ExecuteTime": {
     "end_time": "2022-04-29T03:46:29.769962Z",
     "start_time": "2022-04-29T03:46:29.702470Z"
    }
   },
   "outputs": [],
   "source": [
    "output_name = f\"perf_cpu_multithread_batch_size_{batch_size}.csv\"\n",
    "output_uri = os.path.join(PERFORMANCE_LOGS_DIR, output_name)\n",
    "\n",
    "df_all_results = pd.DataFrame.from_dict(all_results).T\n",
    "df_all_results.sort_values(\n",
    "    by=\"approx_inference_time\",\n",
    "    axis=0,\n",
    "    ascending=False,\n",
    "    inplace=True,\n",
    ")\n",
    "\n",
    "df_all_results.to_csv(path_or_buf=output_uri, encoding=\"utf-8\")"
   ]
  },
  {
   "cell_type": "markdown",
   "id": "70ce9a3f",
   "metadata": {},
   "source": [
    "### Analysing results"
   ]
  },
  {
   "cell_type": "code",
   "execution_count": 20,
   "id": "6395a7c6",
   "metadata": {
    "ExecuteTime": {
     "end_time": "2022-05-03T01:50:15.512464Z",
     "start_time": "2022-05-03T01:50:15.481780Z"
    }
   },
   "outputs": [
    {
     "data": {
      "text/html": [
       "<div>\n",
       "<style scoped>\n",
       "    .dataframe tbody tr th:only-of-type {\n",
       "        vertical-align: middle;\n",
       "    }\n",
       "\n",
       "    .dataframe tbody tr th {\n",
       "        vertical-align: top;\n",
       "    }\n",
       "\n",
       "    .dataframe thead th {\n",
       "        text-align: right;\n",
       "    }\n",
       "</style>\n",
       "<table border=\"1\" class=\"dataframe\">\n",
       "  <thead>\n",
       "    <tr style=\"text-align: right;\">\n",
       "      <th></th>\n",
       "      <th>per_cls_precision_1</th>\n",
       "      <th>per_cls_recall_1</th>\n",
       "      <th>approx_inference_time</th>\n",
       "      <th>config_is_pruned</th>\n",
       "    </tr>\n",
       "  </thead>\n",
       "  <tbody>\n",
       "    <tr>\n",
       "      <th>bert\\ntorch\\n-</th>\n",
       "      <td>0.908839</td>\n",
       "      <td>0.962137</td>\n",
       "      <td>273.161767</td>\n",
       "      <td>False</td>\n",
       "    </tr>\n",
       "    <tr>\n",
       "      <th>bert\\npruned\\ntorch\\n-</th>\n",
       "      <td>0.904269</td>\n",
       "      <td>0.960940</td>\n",
       "      <td>209.986405</td>\n",
       "      <td>True</td>\n",
       "    </tr>\n",
       "    <tr>\n",
       "      <th>bert\\ntorch_jit\\n0</th>\n",
       "      <td>0.907673</td>\n",
       "      <td>0.962681</td>\n",
       "      <td>200.102417</td>\n",
       "      <td>False</td>\n",
       "    </tr>\n",
       "    <tr>\n",
       "      <th>bert\\nonnx\\n99</th>\n",
       "      <td>0.908717</td>\n",
       "      <td>0.961810</td>\n",
       "      <td>166.286845</td>\n",
       "      <td>False</td>\n",
       "    </tr>\n",
       "    <tr>\n",
       "      <th>bert\\npruned\\ntorch_jit\\n0</th>\n",
       "      <td>0.902666</td>\n",
       "      <td>0.961593</td>\n",
       "      <td>161.258882</td>\n",
       "      <td>True</td>\n",
       "    </tr>\n",
       "    <tr>\n",
       "      <th>lstm\\ntorch\\n-</th>\n",
       "      <td>0.987586</td>\n",
       "      <td>0.952127</td>\n",
       "      <td>49.551182</td>\n",
       "      <td>False</td>\n",
       "    </tr>\n",
       "    <tr>\n",
       "      <th>lstm\\ntorch_jit\\n0</th>\n",
       "      <td>0.987695</td>\n",
       "      <td>0.951909</td>\n",
       "      <td>35.226997</td>\n",
       "      <td>False</td>\n",
       "    </tr>\n",
       "    <tr>\n",
       "      <th>lstm\\nonnx\\n99</th>\n",
       "      <td>0.987363</td>\n",
       "      <td>0.952127</td>\n",
       "      <td>23.557666</td>\n",
       "      <td>False</td>\n",
       "    </tr>\n",
       "  </tbody>\n",
       "</table>\n",
       "</div>"
      ],
      "text/plain": [
       "                            per_cls_precision_1  per_cls_recall_1  \\\n",
       "bert\\ntorch\\n-                         0.908839          0.962137   \n",
       "bert\\npruned\\ntorch\\n-                 0.904269          0.960940   \n",
       "bert\\ntorch_jit\\n0                     0.907673          0.962681   \n",
       "bert\\nonnx\\n99                         0.908717          0.961810   \n",
       "bert\\npruned\\ntorch_jit\\n0             0.902666          0.961593   \n",
       "lstm\\ntorch\\n-                         0.987586          0.952127   \n",
       "lstm\\ntorch_jit\\n0                     0.987695          0.951909   \n",
       "lstm\\nonnx\\n99                         0.987363          0.952127   \n",
       "\n",
       "                            approx_inference_time  config_is_pruned  \n",
       "bert\\ntorch\\n-                         273.161767             False  \n",
       "bert\\npruned\\ntorch\\n-                 209.986405              True  \n",
       "bert\\ntorch_jit\\n0                     200.102417             False  \n",
       "bert\\nonnx\\n99                         166.286845             False  \n",
       "bert\\npruned\\ntorch_jit\\n0             161.258882              True  \n",
       "lstm\\ntorch\\n-                          49.551182             False  \n",
       "lstm\\ntorch_jit\\n0                      35.226997             False  \n",
       "lstm\\nonnx\\n99                          23.557666             False  "
      ]
     },
     "execution_count": 20,
     "metadata": {},
     "output_type": "execute_result"
    }
   ],
   "source": [
    "input_batch_size = 64\n",
    "input_name = f\"perf_cpu_multithread_batch_size_{input_batch_size}.csv\"\n",
    "input_uri = os.path.join(PERFORMANCE_LOGS_DIR, input_name)\n",
    "\n",
    "df_all_results = pd.read_csv(input_uri, index_col=0, header=0)\n",
    "df_all_results[\n",
    "    [\"per_cls_precision_1\", \"per_cls_recall_1\", \"approx_inference_time\", \"config_is_pruned\"]\n",
    "]"
   ]
  },
  {
   "cell_type": "code",
   "execution_count": 21,
   "id": "32fdc6a0",
   "metadata": {
    "ExecuteTime": {
     "end_time": "2022-05-03T01:50:17.546442Z",
     "start_time": "2022-05-03T01:50:17.010429Z"
    }
   },
   "outputs": [
    {
     "data": {
      "image/png": "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