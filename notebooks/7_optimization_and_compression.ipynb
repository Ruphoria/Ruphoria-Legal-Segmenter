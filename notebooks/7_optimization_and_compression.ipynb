{
 "cells": [
  {
   "cell_type": "code",
   "execution_count": 3,
   "id": "c8f75bd2",
   "metadata": {
    "ExecuteTime": {
     "end_time": "2022-05-06T14:44:50.530542Z",
     "start_time": "2022-05-06T14:44:47.752495Z"
    }
   },
   "outputs": [],
   "source": [
    "import typing as t\n",
    "import pathlib\n",
    "import os\n",
    "import pickle\n",
    "import collections\n",
    "import timeit\n",
    "\n",
    "import transformers\n",
    "import optimum\n",
    "import optimum.onnxruntime\n",
    "import onnxruntime\n",
    "import onnx\n",
    "import datasets\n",
    "import torch\n",
    "import torch.nn as nn\n",
    "import numpy as np\n",
    "import seaborn as sns\n",
    "import matplotlib.pyplot as plt\n",
    "import tqdm.auto\n",
    "import pandas as pd\n",
    "\n",
    "import segmentador\n",
    "import segmentador.optimize\n",
    "import eval_model\n",
    "import prune_heads\n",
    "\n",
    "%load_ext autoreload\n",
    "%autoreload 2\n",
    "\n",
    "\n",
    "PRUNE_HEADS = False\n",
    "\n",
    "PERFORMANCE_LOGS_DIR = \"performance_logs\"\n",
    "pathlib.Path(PERFORMANCE_LOGS_DIR).mkdir(exist_ok=True, parents=True)\n",
    "\n",
    "QUANTIZED_MODELS_DIR = \"quantized_models\"\n",
    "pathlib.Path(QUANTIZED_MODELS_DIR).mkdir(exist_ok=True, parents=True)"
   ]
  },
  {
   "cell_type": "code",
   "execution_count": 2,
   "id": "b66dba65",
   "metadata": {
    "ExecuteTime": {
     "end_time": "2022-05-03T01:44:57.465953Z",
     "start_time": "2022-05-03T01:44:57.402217Z"
    }
   },
   "outputs": [],
   "source": [
    "curated_df = datasets.Dataset.from_file(\n",
    "    \"../data/refined_datasets/df_tokenized_split_0_120000_6000/\"\n",
    "    \"combined_test_48_parts_1036_instances/dataset.arrow\"\n",
    ")\n",
    "\n",
    "curated_df_subsample = curated_df.shard(num_shards=200, index=0)"
   ]
  },
  {
   "cell_type": "markdown",
   "id": "d0f9628b",
   "metadata": {},
   "source": [
    "## Pruning transformers heads"
   ]
  },
  {
   "cell_type": "code",
   "execution_count": 3,
   "id": "6ba99788",
   "metadata": {
    "ExecuteTime": {
     "end_time": "2022-04-29T02:52:01.373470Z",
     "start_time": "2022-04-29T02:52:01.351073Z"
    }
   },
   "outputs": [],
   "source": [
    "if PRUNE_HEADS:\n",
    "    device = \"cuda\"\n",
    "\n",
    "    segmenter_bert = segmentador.BERTSegmenter(\n",
    "        uri_model=\"../pretrained_segmenter_model/2_6000_layer_model/\",\n",
    "        device=device,\n",
    "    )\n",
    "\n",
    "    eval_df = datasets.Dataset.from_file(\n",
    "        \"../data/df_tokenized_split_0_120000_6000/eval/dataset.arrow\"\n",
    "    ).shard(num_shards=20, index=0)\n",
    "\n",
    "    eval_dataloader = torch.utils.data.DataLoader(\n",
    "        eval_df,\n",
    "        sampler=torch.utils.data.SequentialSampler(eval_df),\n",
    "        batch_size=4,\n",
    "        collate_fn=transformers.DataCollatorForTokenClassification(\n",
    "            segmenter_bert.tokenizer,\n",
    "            padding=\"max_length\",\n",
    "            max_length=1024,\n",
    "        ),\n",
    "    )\n",
    "\n",
    "    head_mask = prune_heads.mask_heads(\n",
    "        segmenter_bert.model,\n",
    "        eval_dataloader,\n",
    "        device=device,\n",
    "        masking_threshold=0.995,\n",
    "    )\n",
    "\n",
    "    prune_heads.prune_heads(\n",
    "        segmenter_bert.model,\n",
    "        eval_dataloader,\n",
    "        head_mask,\n",
    "        device=device,\n",
    "    )\n",
    "\n",
    "    segmenter_bert.model.save_pretrained(\"head_pruning/pruned_model\")\n",
    "    segmenter_bert.tokenizer.save_pretrained(\"head_pruning/pruned_model\")"
   ]
  },
  {
   "cell_type": "markdown",
   "id": "4e318fc4",
   "metadata": {},
   "source": [
    "- masking_threshold = 0.995\n",
    "    - Pruning: original num of params: 1.96e+07, after pruning 1.76e+07 (89.9%)\n",
    "    - Pruning: score with masking: 0.9825 score with pruning: 0.9825\n",
    "    - Pruning: speed ratio (new timing / original timing): 131.32%\n",
    "\n",
    "- masking_threshold = 0.990\n",
    "    - Pruning: original num of params: 1.96e+07, after pruning 1.68e+07 (85.9%)\n",
    "    - Pruning: score with masking: 0.9791 score with pruning: 0.9791\n",
    "    - Pruning: speed ratio (new timing / original timing): 145.23%\n",
    "\n",
    "- masking_threshold = 0.980\n",
    "    - Pruning: original num of params: %.2e, after pruning %.2e (%.1f percents) 19576324 16427524 83.91526417319206\n",
    "    - Pruning: score with masking: %f score with pruning: %f 0.971903741967998 0.971903741967998\n",
    "    - Pruning: speed ratio (new timing / original timing): %f percents 151.18013865026202"
   ]
  },
  {
   "cell_type": "markdown",
   "id": "2e2e8e9e",
   "metadata": {
    "ExecuteTime": {
     "end_time": "2022-04-05T17:10:42.928492Z",
     "start_time": "2022-04-05T17:10:42.922482Z"
    }
   },
   "source": [
    "## Quantizing LSTM"
   ]
  },
  {
   "cell_type": "code",
   "execution_count": 4,
   "id": "6d769590",
   "metadata": {
    "ExecuteTime": {
     "end_time": "2022-05-06T14:45:03.444670Z",
     "start_time": "2022-05-06T14:45:03.174479Z"
    }
   },
   "outputs": [],
   "source": [
    "segmenter_lstm = segmentador.LSTMSegmenter(\n",
    "    uri_model=\"../pretrained_segmenter_model/512_6000_1_lstm/checkpoints/epoch=3-step=3591.ckpt\",\n",
    "    uri_tokenizer=\"../tokenizers/6000_subwords\",\n",
    "    device=\"cpu\",\n",
    ")"
   ]
  },
  {
   "cell_type": "markdown",
   "id": "a809d517",
   "metadata": {},
   "source": [
    "### As Torch JIT format"
   ]
  },
  {
   "cell_type": "code",
   "execution_count": 5,
   "id": "67036f76",
   "metadata": {
    "ExecuteTime": {
     "end_time": "2022-04-29T02:52:02.269620Z",
     "start_time": "2022-04-29T02:52:01.602781Z"
    }
   },
   "outputs": [
    {
     "name": "stdout",
     "output_type": "stream",
     "text": [
      "Saved quantized Pytorch module (Torch JIT format) in \u001b[34m'./quantized_models/q_segmenter_num_layers_1_vocab_size_6000_lstm_model.pt'\u001b[0m. To use it, load a LSTM segmenter model as:\n",
      "\n",
      "segmentador.optimize.TorchJITLSTMSegmenter(\n",
      "   \u001b[33muri_model=\u001b[34m'./quantized_models/q_segmenter_num_layers_1_vocab_size_6000_lstm_model.pt'\u001b[0m,\n",
      "   ...,\n",
      ")\n"
     ]
    }
   ],
   "source": [
    "quantized_lstm_torch_paths = segmentador.optimize.quantize_model(\n",
    "    segmenter_lstm,\n",
    "    model_output_format=\"torch_jit\",\n",
    "    check_cached=False,\n",
    "    verbose=True,\n",
    ")"
   ]
  },
  {
   "cell_type": "code",
   "execution_count": 6,
   "id": "ad8e32da",
   "metadata": {
    "ExecuteTime": {
     "end_time": "2022-04-29T02:52:02.325227Z",
     "start_time": "2022-04-29T02:52:02.270874Z"
    }
   },
   "outputs": [],
   "source": [
    "segmenter_lstm_torch_quantized = segmentador.optimize.TorchJITLSTMSegmenter(\n",
    "    uri_model=quantized_lstm_torch_paths.output_uri,\n",
    ")"
   ]
  },
  {
   "cell_type": "code",
   "execution_count": 7,
   "id": "71e73ec7",
   "metadata": {
    "ExecuteTime": {
     "end_time": "2022-04-29T02:52:02.644966Z",
     "start_time": "2022-04-29T02:52:02.326408Z"
    }
   },
   "outputs": [
    {
     "data": {
      "application/vnd.jupyter.widget-view+json": {
       "model_id": "09d7bd90e1104623adb391787121d619",
       "version_major": 2,
       "version_minor": 0
      },
      "text/plain": [
       "  0%|          | 0/1 [00:00<?, ?it/s]"
      ]
     },
     "metadata": {},
     "output_type": "display_data"
    },
    {
     "data": {
      "text/plain": [
       "['INDICAÇÃO Nº DE 2008 ( Do Sr. Hermes Parcianello )',\n",
       " 'Indica ao Ministério da Educação a inclusão no ProInfância do município de LARANJEIRAS DO SUL, no estado do Paraná.',\n",
       " 'Excelentíssimo Senhor Ministro de Estado da Educação, Considerando que a construção de creches e escolas de educação infantil e a reestruturação e aquisição de equipamentos para a rede física escolar desse nível educacional são indispensáveis à melhoria da educação. Considerando um grande percentual de mulheres chefes de família com filhos menores que necessitam de local adequado para deixar seus filhos e que o Programa disponibiliza o atendimento de até 120 crianças em período integral ou até 240 crianças, se distribuídos em turnos matutinos e vespertinos. Considerando que o município ao ser atendido pelo Programa priorizará a acessibilidade, fazendo as adequações necessárias a fim de permitir seu uso por portadores de necessidades especiais. Considerando que a edificação será composta de um bloco administrativo, um de serviço, dois pedagógicos, além de áreas para recreação e multiuso, totalizando uma área de aproximadamente 1. 118, 46m2 e que o valor aproximado será de R $ 950. 339, 28 ( novecentos e cinqüenta mil, trezentos e trinta e nove reais e vinte e oito centavos ) Considerando ainda que o município preencha os requisitos exigidos pelo FNDE ; entendemos que é imprescindível a inclusão de LARANJEIRAS DO SUL - PR no Programa Nacional de Reestruturação e Aparelhamento da Rede Escolar Pública de Educação Infantil.',\n",
       " 'Sala das Sessões, em dezembro de 2008 Deputado HERMES PARCIANELLO',\n",
       " 'REQUERIMENTO ( Do Sr. HERMES PARCIANELLO )',\n",
       " 'Requer o envio de Indicação ao Poder Executivo, relativo à inclusão do município de LARANJEIRAS DO SUL, no estado do Paraná no ProInfância.',\n",
       " 'Senhor Presidente, Nos termos do art. 113, inciso I e § 1º do Regimento Interno da Câmara dos Deputados, requeiro a Vossa Excelência seja encaminhada ao Poder Executivo a Indicação em anexo, designando a inclusão do município LARANJEIRAS DO SUL no ProInfância.',\n",
       " 'Sala de Sessões, em de dezembro de 2008 Deputa