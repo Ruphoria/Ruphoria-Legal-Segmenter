{
 "cells": [
  {
   "cell_type": "markdown",
   "id": "fed1bdd7",
   "metadata": {},
   "source": [
    "# Notebook to train segmenter model\n",
    "\n",
    "This notebook uses the previously created tokenizer and labeled data to effectively train Transformer Encoder models to segment Brazilian legal text data."
   ]
  },
  {
   "cell_type": "code",
   "execution_count": 7,
   "id": "458ccb35",
   "metadata": {
    "ExecuteTime": {
     "end_time": "2023-01-24T19:16:51.388980Z",
     "start_time": "2023-01-24T19:16:51.370039Z"
    }
   },
   "outputs": [],
   "source": [
    "import os\n",
    "\n",
    "import transformers\n",
    "import torch\n",
    "import torch.nn\n",
    "import datasets\n",
    "\n",
    "try:\n",
    "    from segmentador import *\n",
    "\n",
    "except ImportError:\n",
    "    from src import *\n",
    "\n",
    "\n",
    "import eval_model\n",
    "\n",
    "\n",
    "TRAIN_MODEL = True\n",
    "PREDICT_TEST_SET_AT_END = True\n",
    "DEBUG_RUN = False\n",
    "RESOURCE_DIR = \"..\"\n",
    "\n",
    "\n",
    "USE_FP16 = False\n",
    "DEVICE = \"cuda\"\n",
    "LOCAL_FILES_ONLY = True\n",
    "LOAD_PRETRAINED_WEIGHTS = True\n",
    "NUM_TRAIN_EPOCHS = 4\n",
    "NUM_HIDDEN_LAYERS = 2\n",
    "GRAD_ACCUMULATION_STEPS = 16\n",
    "VOCAB_SIZE = 6000\n",
    "\n",
    "\n",
    "TRAINED_MODEL_SAVE_PATH = os.path.join(\n",
    "    RESOURCE_DIR,\n",
    "    \"segmenter_model_v2\",\n",
    "    f\"{NUM_HIDDEN_LAYERS}_{VOCAB_SIZE}_layer_model\",\n",
    ")\n",
    "\n",
    "TRAINER_STATE_SAVE_PATH = os.path.join(\n",
    "    RESOURCE_DIR,\n",
    "    \"saved_trainer_states\",\n",
    "    f\"{NUM_HIDDEN_LAYERS}_{VOCAB_SIZE}_layer_model\",\n",
    ")"
   ]
  },
  {
   "cell_type": "markdown",
   "id": "607cdb21",
   "metadata": {},
   "source": [
    "# Setup model weights and labeled data"
   ]
  },
  {
   "cell_type": "code",
   "execution_count": 8,
   "id": "60d11642",
   "metadata": {
    "ExecuteTime": {
     "end_time": "2023-01-24T19:16:56.324617Z",
     "start_time": "2023-01-24T19:16:53.250194Z"
    }
   },
   "outputs": [
    {
     "name": "stderr",
     "output_type": "stream",
     "text": [
      "401 Client Error: Unauthorized for url: https://huggingface.co/segmenter_model_v2/2_6000_layer_model/resolve/main/config.json\n"
     ]
    },
    {
     "name": "stdout",
     "output_type": "stream",
     "text": [
      "We couldn't connect to 'https://huggingface.co/' to load this model and it looks like ../segmenter_model_v2/2_6000_layer_model is not the path to a directory conaining a config.json file.\n",
      "Checkout your internet connection or see how to run the library in offline mode at 'https://huggingface.co/docs/transformers/installation#offline-mode'.\n"
     ]
    },
    {
     "name": "stderr",
     "output_type": "stream",
     "text": [
      "401 Client Error: Unauthorized for url: https://huggingface.co/base_models/bert-base-portuguese-cased/resolve/main/config.json\n"
     ]
    },
    {
     "name": "stdout",
     "output_type": "stream",
     "text": [
      "We couldn't connect to 'https://huggingface.co/' to load this model and it looks like ../base_models/bert-base-portuguese-cased is not the path to a directory conaining a config.json file.\n",
      "Checkout your internet connection or see how to run the library in offline mode at 'https://huggingface.co/docs/transformers/installation#offline-mode'.\n"
     ]
    },
    {
     "data": {
      "text/plain": [
       "BertForTokenClassification(\n",
       "  (bert): BertModel(\n",
       "    (embeddings): BertEmbeddings(\n",
       "      (word_embeddings): Embedding(6000, 768, padding_idx=0)\n",
       "      (position_embeddings): Embedding(1024, 768)\n",
       "      (token_type_embeddings): Embedding(2, 768)\n",
       "      (LayerNorm): LayerNorm((768,), eps=1e-12, elementwise_affine=True)\n",
       "      (dropout): Dropout(p=0.1, inplace=False)\n",
       "    )\n",
       "    (encoder): BertEncoder(\n",
       "      (layer): ModuleList(\n",
       "        (0): BertLayer(\n",
       "          (attention): BertAttention(\n",
       "            (self): BertSelfAttention(\n",
       "              (query): Linear(in_features=768, out_features=768, bias=True)\n",
       "              (key): Linear(in_features=768, out_features=768, bias=True)\n",
       "              (value): Linear(in_features=768, out_features=768, bias=True)\n",
       "              (dropout): Dropout(p=0.1, inplace=False)\n",
       "            )\n",
       "            (output): BertSelfOutput(\n",
       "              (dense): Linear(in_features=768, out_features=768, bias=True)\n",
       "              (LayerNorm): LayerNorm((768,), eps=1e-12, elementwise_affine=True)\n",
       "              (dropout): Dropout(p=0.1, inplace=False)\n",
       "            )\n",
       "          )\n",
       "          (intermediate): BertIntermediate(\n",
       "            (dense): Linear(in_features=768, out_features=3072, bias=True)\n",
       "          )\n",
       "          (output): BertOutput(\n",
       "            (dense): Linear(in_features=3072, out_features=768, bias=True)\n",
       "            (LayerNorm): LayerNorm((768,), eps=1e-12, elementwise_affine=True)\n",
       "            (dropout): Dropout(p=0.1, inplace=False)\n",
       "          )\n",
       "        )\n",
       "        (1): BertLayer(\n",
       "          (attention): BertAttention(\n",
       "            (self): BertSelfAttention(\n",
       "              (query): Linear(in_features=768, out_features=768, bias=True)\n",
       "              (key): Linear(in_features=768, out_features=768, bias=True)\n",
       "              (value): Linear(in_features=768, out_features=768, bias=True)\n",
       "              (dropout): Dropout(p=0.1, inplace=False)\n",
       "            )\n",
       "            (output): BertSelfOutput(\n",
       "              (dense): Linear(in_features=768, out_features=768, bias=True)\n",
       "              (LayerNorm): LayerNorm((768,), eps=1e-12, elementwise_affine=True)\n",
       "              (dropout): Dropout(p=0.1, inplace=False)\n",
       "            )\n",
       "          )\n",
       "          (intermediate): BertIntermediate(\n",
       "            (dense): Linear(in_features=768, out_features=3072, bias=True)\n",
       "          )\n",
       "          (output): BertOutput(\n",
       "            (dense): Linear(in_features=3072, out_features=768, bias=True)\n",
       "            (LayerNorm): LayerNorm((768,), eps=1e-12, elementwise_affine=True)\n",
       "            (dropout): Dropout(p=0.1, inplace=False)\n",
       "          )\n",
       "        )\n",
       "      )\n",
       "    )\n",
       "  )\n",
       "  (dropout): Dropout(p=0.1, inplace=False)\n",
       "  (classifier): Linear(in_features=768, out_features=4, bias=True)\n",
       ")"
      ]
     },
     "execution_count": 8,
     "metadata": {},
     "output_type": "execute_result"
    }
   ],
   "source": [
    "MODEL_URIS = {\n",
    "    \"trained_model\": (TRAINED_MODEL_SAVE_PATH, True),\n",
    "    \"pretrained_bertimbau_hugginface_hub\": (\"neuralmind/bert-base-portuguese-cased\", False),\n",
    "    \"pretrained_bertimbau_local\": (\"../base_models/bert-base-portuguese-cased\", False),\n",
    "}\n",
    "\n",
    "\n",
    "if LOCAL_FILES_ONLY:\n",
    "    MODEL_URIS.pop(\"pretrained_bertimbau_hugginface_hub\")\n",
    "\n",
    "\n",
    "for uri_tag, (uri_model, init_from_pretrained) in MODEL_URIS.items():\n",
    "    try:\n",
    "        seg_model = Segmenter(\n",
    "            local_files_only=LOCAL_FILES_ONLY,\n",
    "            device=DEVICE,\n",
    "            uri_model=uri_model,\n",
    "            init_from_pretrained_weights=init_from_pretrained,\n",
    "            uri_tokenizer=os.path.join(RESOURCE_DIR, \"tokenizers\", f\"{VOCAB_SIZE}_subwords\"),\n",
    "            num_hidden_layers=NUM_HIDDEN_LAYERS,\n",
    "        )\n",
    "        print(f\"Loaded model from ({uri_tag}, {uri_model}).\")\n",
    "        break\n",
    "\n",
    "    except OSError as e:\n",
    "        print(e)\n",
    "        continue\n",
    "\n",
    "\n",
    "seg_model.model"
   ]
  },
  {
   "cell_type": "code",
   "execution_count": null,
   "id": "ffc0eb41",
   "metadata": {
    "ExecuteTime": {
     "end_time": "2022-03-09T17:10:46.105870Z",
     "start_time": "2022-03-09T17:10:46.101891Z"
    }
   },
   "outputs": [],
   "source": [
    "seg_model.model.config"
   ]
  },
  {
   "cell_type": "code",
   "execution_count": 4,
   "id": "fe7b79e3",
   "metadata": {
    "ExecuteTime": {
     "end_time": "2023-01-24T19:13:42.061724Z",
     "start_time": "2023-01-24T19:13:42.014941Z"
    }
   },
   "outputs": [
    {
     "data": {
      "text/plain": [
       "DatasetDict({\n",
       "    train: Dataset({\n",
       "        features: ['labels', 'input_ids', 'token_type_ids', 'attention_mask'],\n",
       "        num_rows: 151302\n",
       "    })\n",
       "    eval: Dataset({\n",
       "        features: ['labels', 'input_ids', 'token_type_ids', 'attention_mask'],\n",
       "        num_rows: 2015\n",
       "    })\n",
       "    test: Dataset({\n",
       "        features: ['labels', 'input_ids', 'token_type_ids', 'attention_mask'],\n",
       "        num_rows: 2299\n",
       "    })\n",
       "})"
      ]
     },
     "execution_count": 4,
     "metadata": {},
     "output_type": "execute_result"
    }
   ],
   "source": [
    "# df_tokenized_split = datasets.load_from_disk(\n",
    "#     os.path.join(RESOURCE_DIR, f\"data/df_tokenized_split_0_120000_{VOCAB_SIZE}\"),\n",
    "# )\n",
    "df_tokenized_split = datasets.load_from_disk(\n",
    "    os.path.join(\"final_curated_dataset_for_hyperparameter_tuning\"),\n",
    ")\n",
    "df_tokenized_split"
   ]
  },
  {
   "cell_type": "code",
   "execution_count": null,
   "id": "8bc43035",
   "metadata": {
    "ExecuteTime": {
     "end_time": "2022-03-28T14:23:56.161464Z",
     "start_time": "2022-03-28T14:23:56.022841Z"
    }
   },
   "outputs": [],
   "source": [
    "save_steps = int(df_tokenized_split[\"train\"].num_rows / GRAD_ACCUMULATION_STEPS * 0.10)\n",
    "\n",
    "\n",
    "training_args = transformers.TrainingArguments(\n",
    "    output_dir=os.path.join(\n",
    "        RESOURCE_DIR, \"segmenter_checkpoint\", f\"{NUM_HIDDEN_LAYERS}_{VOCAB_SIZE}_layer_model\"\n",
    "    ),\n",
    "    logging_dir=os.path.join(\n",
    "        RESOURCE_DIR, \"loggings\", f\"{NUM_HIDDEN_LAYERS}_{VOCAB_SIZE}_layer_model\"\n",
    "    ),\n",
    "    fp16=USE_FP16 and torch.cuda.is_available(),\n",
    "    load_best_model_at_end=True,\n",
    "    metric_for_best_model=\"eval_loss\",\n",
    "    greater_is_better=False,\n",
    "    evaluation_strategy=\"steps\",\n",
    "    logging_strategy=\"steps\",\n",
    "    save_strategy=\"steps\",\n",
    "    save_steps=save_steps,\n",
    "    eval_steps=save_steps,\n",
    "    logging_steps=save_steps,\n",
    "    save_total_limit=5,\n",
    "    per_device_train_batch_size=8,\n",
    "    per_device_eval_batch_size=8,\n",
    "    gradient_accumulation_steps=GRAD_ACCUMULATION_STEPS,\n",
    "    learning_rate=5e-4,\n",
    "    max_grad_norm=1.0,\n",
    "    num_train_epochs=NUM_TRAIN_EPOCHS,\n",
    "    lr_scheduler_type=\"linear\",\n",
    "    warmup_ratio=0.1,\n",
    "    weight_decay=0.0,\n",
    "    report_to=\"all\",\n",
    ")\n",
    "\n",
    "data_collator = transformers.DataCollatorForTokenClassification(\n",
    "    seg_model.tokenizer,\n",
    "    pad_to_multiple_of=8 if USE_FP16 else 1,\n",
    ")\n",
    "\n",
    "if DEBUG_RUN:\n",
    "    df_tokenized_split[\"train\"] = df_tokenized_split[\"train\"].shard(num_shards=500, index=0)\n",
    "    df_tokenized_split[\"eval\"] = df_tokenized_split[\"eval\"].shard(num_shards=500, index=0)\n",
    "    df_tokenized_split[\"test\"] = df_tokenized_split[\"test\"].shard(num_shards=500, index=0)\n",
    "    print(df_tokenized_split)\n",
    "\n",
   